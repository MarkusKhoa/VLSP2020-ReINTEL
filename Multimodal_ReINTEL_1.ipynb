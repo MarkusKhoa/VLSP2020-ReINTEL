{
  "nbformat": 4,
  "nbformat_minor": 0,
  "metadata": {
    "colab": {
      "name": "Multimodal_ReINTEL.ipynb",
      "provenance": [],
      "collapsed_sections": [],
      "machine_shape": "hm"
    },
    "kernelspec": {
      "name": "python3",
      "display_name": "Python 3"
    },
    "language_info": {
      "name": "python"
    },
    "accelerator": "GPU",
    "widgets": {
      "application/vnd.jupyter.widget-state+json": {
        "2ebce6ad7bee4d00b1317dc205a96bf7": {
          "model_module": "@jupyter-widgets/controls",
          "model_name": "HBoxModel",
          "model_module_version": "1.5.0",
          "state": {
            "_view_name": "HBoxView",
            "_dom_classes": [],
            "_model_name": "HBoxModel",
            "_view_module": "@jupyter-widgets/controls",
            "_model_module_version": "1.5.0",
            "_view_count": null,
            "_view_module_version": "1.5.0",
            "box_style": "",
            "layout": "IPY_MODEL_983404f0e1374023b5c7f6bd5af4553d",
            "_model_module": "@jupyter-widgets/controls",
            "children": [
              "IPY_MODEL_574429d054954cf499c347e57bf0989c",
              "IPY_MODEL_350d59c54c0648ff95b58c9a28d78c6d",
              "IPY_MODEL_c3c5c07cbfa64cc7826c8013785cd4a1"
            ]
          }
        },
        "983404f0e1374023b5c7f6bd5af4553d": {
          "model_module": "@jupyter-widgets/base",
          "model_name": "LayoutModel",
          "model_module_version": "1.2.0",
          "state": {
            "_view_name": "LayoutView",
            "grid_template_rows": null,
            "right": null,
            "justify_content": null,
            "_view_module": "@jupyter-widgets/base",
            "overflow": null,
            "_model_module_version": "1.2.0",
            "_view_count": null,
            "flex_flow": null,
            "width": null,
            "min_width": null,
            "border": null,
            "align_items": null,
            "bottom": null,
            "_model_module": "@jupyter-widgets/base",
            "top": null,
            "grid_column": null,
            "overflow_y": null,
            "overflow_x": null,
            "grid_auto_flow": null,
            "grid_area": null,
            "grid_template_columns": null,
            "flex": null,
            "_model_name": "LayoutModel",
            "justify_items": null,
            "grid_row": null,
            "max_height": null,
            "align_content": null,
            "visibility": null,
            "align_self": null,
            "height": null,
            "min_height": null,
            "padding": null,
            "grid_auto_rows": null,
            "grid_gap": null,
            "max_width": null,
            "order": null,
            "_view_module_version": "1.2.0",
            "grid_template_areas": null,
            "object_position": null,
            "object_fit": null,
            "grid_auto_columns": null,
            "margin": null,
            "display": null,
            "left": null
          }
        },
        "574429d054954cf499c347e57bf0989c": {
          "model_module": "@jupyter-widgets/controls",
          "model_name": "HTMLModel",
          "model_module_version": "1.5.0",
          "state": {
            "_view_name": "HTMLView",
            "style": "IPY_MODEL_ebbd4f21ce9a49d3a84f36a6dc78cef0",
            "_dom_classes": [],
            "description": "",
            "_model_name": "HTMLModel",
            "placeholder": "​",
            "_view_module": "@jupyter-widgets/controls",
            "_model_module_version": "1.5.0",
            "value": "Downloading: 100%",
            "_view_count": null,
            "_view_module_version": "1.5.0",
            "description_tooltip": null,
            "_model_module": "@jupyter-widgets/controls",
            "layout": "IPY_MODEL_59810ac61bde463a8d795653b4ebb390"
          }
        },
        "350d59c54c0648ff95b58c9a28d78c6d": {
          "model_module": "@jupyter-widgets/controls",
          "model_name": "FloatProgressModel",
          "model_module_version": "1.5.0",
          "state": {
            "_view_name": "ProgressView",
            "style": "IPY_MODEL_ac76351ba9f04135aba2f9dd3eb52529",
            "_dom_classes": [],
            "description": "",
            "_model_name": "FloatProgressModel",
            "bar_style": "success",
            "max": 391,
            "_view_module": "@jupyter-widgets/controls",
            "_model_module_version": "1.5.0",
            "value": 391,
            "_view_count": null,
            "_view_module_version": "1.5.0",
            "orientation": "horizontal",
            "min": 0,
            "description_tooltip": null,
            "_model_module": "@jupyter-widgets/controls",
            "layout": "IPY_MODEL_46ec79f118904546bf20a7421a869154"
          }
        },
        "c3c5c07cbfa64cc7826c8013785cd4a1": {
          "model_module": "@jupyter-widgets/controls",
          "model_name": "HTMLModel",
          "model_module_version": "1.5.0",
          "state": {
            "_view_name": "HTMLView",
            "style": "IPY_MODEL_6291d9e4740d432499f4fff7fa5942b9",
            "_dom_classes": [],
            "description": "",
            "_model_name": "HTMLModel",
            "placeholder": "​",
            "_view_module": "@jupyter-widgets/controls",
            "_model_module_version": "1.5.0",
            "value": " 391/391 [00:00&lt;00:00, 12.0kB/s]",
            "_view_count": null,
            "_view_module_version": "1.5.0",
            "description_tooltip": null,
            "_model_module": "@jupyter-widgets/controls",
            "layout": "IPY_MODEL_77d0ba390c19462c8bbaa724e5a1f68b"
          }
        },
        "ebbd4f21ce9a49d3a84f36a6dc78cef0": {
          "model_module": "@jupyter-widgets/controls",
          "model_name": "DescriptionStyleModel",
          "model_module_version": "1.5.0",
          "state": {
            "_view_name": "StyleView",
            "_model_name": "DescriptionStyleModel",
            "description_width": "",
            "_view_module": "@jupyter-widgets/base",
            "_model_module_version": "1.5.0",
            "_view_count": null,
            "_view_module_version": "1.2.0",
            "_model_module": "@jupyter-widgets/controls"
          }
        },
        "59810ac61bde463a8d795653b4ebb390": {
          "model_module": "@jupyter-widgets/base",
          "model_name": "LayoutModel",
          "model_module_version": "1.2.0",
          "state": {
            "_view_name": "LayoutView",
            "grid_template_rows": null,
            "right": null,
            "justify_content": null,
            "_view_module": "@jupyter-widgets/base",
            "overflow": null,
            "_model_module_version": "1.2.0",
            "_view_count": null,
            "flex_flow": null,
            "width": null,
            "min_width": null,
            "border": null,
            "align_items": null,
            "bottom": null,
            "_model_module": "@jupyter-widgets/base",
            "top": null,
            "grid_column": null,
            "overflow_y": null,
            "overflow_x": null,
            "grid_auto_flow": null,
            "grid_area": null,
            "grid_template_columns": null,
            "flex": null,
            "_model_name": "LayoutModel",
            "justify_items": null,
            "grid_row": null,
            "max_height": null,
            "align_content": null,
            "visibility": null,
            "align_self": null,
            "height": null,
            "min_height": null,
            "padding": null,
            "grid_auto_rows": null,
            "grid_gap": null,
            "max_width": null,
            "order": null,
            "_view_module_version": "1.2.0",
            "grid_template_areas": null,
            "object_position": null,
            "object_fit": null,
            "grid_auto_columns": null,
            "margin": null,
            "display": null,
            "left": null
          }
        },
        "ac76351ba9f04135aba2f9dd3eb52529": {
          "model_module": "@jupyter-widgets/controls",
          "model_name": "ProgressStyleModel",
          "model_module_version": "1.5.0",
          "state": {
            "_view_name": "StyleView",
            "_model_name": "ProgressStyleModel",
            "description_width": "",
            "_view_module": "@jupyter-widgets/base",
            "_model_module_version": "1.5.0",
            "_view_count": null,
            "_view_module_version": "1.2.0",
            "bar_color": null,
            "_model_module": "@jupyter-widgets/controls"
          }
        },
        "46ec79f118904546bf20a7421a869154": {
          "model_module": "@jupyter-widgets/base",
          "model_name": "LayoutModel",
          "model_module_version": "1.2.0",
          "state": {
            "_view_name": "LayoutView",
            "grid_template_rows": null,
            "right": null,
            "justify_content": null,
            "_view_module": "@jupyter-widgets/base",
            "overflow": null,
            "_model_module_version": "1.2.0",
            "_view_count": null,
            "flex_flow": null,
            "width": null,
            "min_width": null,
            "border": null,
            "align_items": null,
            "bottom": null,
            "_model_module": "@jupyter-widgets/base",
            "top": null,
            "grid_column": null,
            "overflow_y": null,
            "overflow_x": null,
            "grid_auto_flow": null,
            "grid_area": null,
            "grid_template_columns": null,
            "flex": null,
            "_model_name": "LayoutModel",
            "justify_items": null,
            "grid_row": null,
            "max_height": null,
            "align_content": null,
            "visibility": null,
            "align_self": null,
            "height": null,
            "min_height": null,
            "padding": null,
            "grid_auto_rows": null,
            "grid_gap": null,
            "max_width": null,
            "order": null,
            "_view_module_version": "1.2.0",
            "grid_template_areas": null,
            "object_position": null,
            "object_fit": null,
            "grid_auto_columns": null,
            "margin": null,
            "display": null,
            "left": null
          }
        },
        "6291d9e4740d432499f4fff7fa5942b9": {
          "model_module": "@jupyter-widgets/controls",
          "model_name": "DescriptionStyleModel",
          "model_module_version": "1.5.0",
          "state": {
            "_view_name": "StyleView",
            "_model_name": "DescriptionStyleModel",
            "description_width": "",
            "_view_module": "@jupyter-widgets/base",
            "_model_module_version": "1.5.0",
            "_view_count": null,
            "_view_module_version": "1.2.0",
            "_model_module": "@jupyter-widgets/controls"
          }
        },
        "77d0ba390c19462c8bbaa724e5a1f68b": {
          "model_module": "@jupyter-widgets/base",
          "model_name": "LayoutModel",
          "model_module_version": "1.2.0",
          "state": {
            "_view_name": "LayoutView",
            "grid_template_rows": null,
            "right": null,
            "justify_content": null,
            "_view_module": "@jupyter-widgets/base",
            "overflow": null,
            "_model_module_version": "1.2.0",
            "_view_count": null,
            "flex_flow": null,
            "width": null,
            "min_width": null,
            "border": null,
            "align_items": null,
            "bottom": null,
            "_model_module": "@jupyter-widgets/base",
            "top": null,
            "grid_column": null,
            "overflow_y": null,
            "overflow_x": null,
            "grid_auto_flow": null,
            "grid_area": null,
            "grid_template_columns": null,
            "flex": null,
            "_model_name": "LayoutModel",
            "justify_items": null,
            "grid_row": null,
            "max_height": null,
            "align_content": null,
            "visibility": null,
            "align_self": null,
            "height": null,
            "min_height": null,
            "padding": null,
            "grid_auto_rows": null,
            "grid_gap": null,
            "max_width": null,
            "order": null,
            "_view_module_version": "1.2.0",
            "grid_template_areas": null,
            "object_position": null,
            "object_fit": null,
            "grid_auto_columns": null,
            "margin": null,
            "display": null,
            "left": null
          }
        },
        "45922a614e6b4cf68923e33dff517b07": {
          "model_module": "@jupyter-widgets/controls",
          "model_name": "HBoxModel",
          "model_module_version": "1.5.0",
          "state": {
            "_view_name": "HBoxView",
            "_dom_classes": [],
            "_model_name": "HBoxModel",
            "_view_module": "@jupyter-widgets/controls",
            "_model_module_version": "1.5.0",
            "_view_count": null,
            "_view_module_version": "1.5.0",
            "box_style": "",
            "layout": "IPY_MODEL_0016abe4ae374da494c4013835d361d0",
            "_model_module": "@jupyter-widgets/controls",
            "children": [
              "IPY_MODEL_a7d01ae8c931410c9e62d969a288bbf0",
              "IPY_MODEL_e7a2aa2c275b4b1ab5b161d387434ace",
              "IPY_MODEL_46d130e25e5f4ecda69a8f658c4e8f5f"
            ]
          }
        },
        "0016abe4ae374da494c4013835d361d0": {
          "model_module": "@jupyter-widgets/base",
          "model_name": "LayoutModel",
          "model_module_version": "1.2.0",
          "state": {
            "_view_name": "LayoutView",
            "grid_template_rows": null,
            "right": null,
            "justify_content": null,
            "_view_module": "@jupyter-widgets/base",
            "overflow": null,
            "_model_module_version": "1.2.0",
            "_view_count": null,
            "flex_flow": null,
            "width": null,
            "min_width": null,
            "border": null,
            "align_items": null,
            "bottom": null,
            "_model_module": "@jupyter-widgets/base",
            "top": null,
            "grid_column": null,
            "overflow_y": null,
            "overflow_x": null,
            "grid_auto_flow": null,
            "grid_area": null,
            "grid_template_columns": null,
            "flex": null,
            "_model_name": "LayoutModel",
            "justify_items": null,
            "grid_row": null,
            "max_height": null,
            "align_content": null,
            "visibility": null,
            "align_self": null,
            "height": null,
            "min_height": null,
            "padding": null,
            "grid_auto_rows": null,
            "grid_gap": null,
            "max_width": null,
            "order": null,
            "_view_module_version": "1.2.0",
            "grid_template_areas": null,
            "object_position": null,
            "object_fit": null,
            "grid_auto_columns": null,
            "margin": null,
            "display": null,
            "left": null
          }
        },
        "a7d01ae8c931410c9e62d969a288bbf0": {
          "model_module": "@jupyter-widgets/controls",
          "model_name": "HTMLModel",
          "model_module_version": "1.5.0",
          "state": {
            "_view_name": "HTMLView",
            "style": "IPY_MODEL_9ede13777c0d48d0a35a96904e4a736a",
            "_dom_classes": [],
            "description": "",
            "_model_name": "HTMLModel",
            "placeholder": "​",
            "_view_module": "@jupyter-widgets/controls",
            "_model_module_version": "1.5.0",
            "value": "Downloading: 100%",
            "_view_count": null,
            "_view_module_version": "1.5.0",
            "description_tooltip": null,
            "_model_module": "@jupyter-widgets/controls",
            "layout": "IPY_MODEL_e7025bf209c5406cb44056d6d7c55e23"
          }
        },
        "e7a2aa2c275b4b1ab5b161d387434ace": {
          "model_module": "@jupyter-widgets/controls",
          "model_name": "FloatProgressModel",
          "model_module_version": "1.5.0",
          "state": {
            "_view_name": "ProgressView",
            "style": "IPY_MODEL_2c9f0a6a20c442c1818a55d9a8be43fe",
            "_dom_classes": [],
            "description": "",
            "_model_name": "FloatProgressModel",
            "bar_style": "success",
            "max": 3951,
            "_view_module": "@jupyter-widgets/controls",
            "_model_module_version": "1.5.0",
            "value": 3951,
            "_view_count": null,
            "_view_module_version": "1.5.0",
            "orientation": "horizontal",
            "min": 0,
            "description_tooltip": null,
            "_model_module": "@jupyter-widgets/controls",
            "layout": "IPY_MODEL_408f6c82859946bd9cd8c0f415726083"
          }
        },
        "46d130e25e5f4ecda69a8f658c4e8f5f": {
          "model_module": "@jupyter-widgets/controls",
          "model_name": "HTMLModel",
          "model_module_version": "1.5.0",
          "state": {
            "_view_name": "HTMLView",
            "style": "IPY_MODEL_7950af40c0614efca8a297251661acf3",
            "_dom_classes": [],
            "description": "",
            "_model_name": "HTMLModel",
            "placeholder": "​",
            "_view_module": "@jupyter-widgets/controls",
            "_model_module_version": "1.5.0",
            "value": " 3.95k/3.95k [00:00&lt;00:00, 139kB/s]",
            "_view_count": null,
            "_view_module_version": "1.5.0",
            "description_tooltip": null,
            "_model_module": "@jupyter-widgets/controls",
            "layout": "IPY_MODEL_5285c2e1f1a14b5a83727b31b6086c13"
          }
        },
        "9ede13777c0d48d0a35a96904e4a736a": {
          "model_module": "@jupyter-widgets/controls",
          "model_name": "DescriptionStyleModel",
          "model_module_version": "1.5.0",
          "state": {
            "_view_name": "StyleView",
            "_model_name": "DescriptionStyleModel",
            "description_width": "",
            "_view_module": "@jupyter-widgets/base",
            "_model_module_version": "1.5.0",
            "_view_count": null,
            "_view_module_version": "1.2.0",
            "_model_module": "@jupyter-widgets/controls"
          }
        },
        "e7025bf209c5406cb44056d6d7c55e23": {
          "model_module": "@jupyter-widgets/base",
          "model_name": "LayoutModel",
          "model_module_version": "1.2.0",
          "state": {
            "_view_name": "LayoutView",
            "grid_template_rows": null,
            "right": null,
            "justify_content": null,
            "_view_module": "@jupyter-widgets/base",
            "overflow": null,
            "_model_module_version": "1.2.0",
            "_view_count": null,
            "flex_flow": null,
            "width": null,
            "min_width": null,
            "border": null,
            "align_items": null,
            "bottom": null,
            "_model_module": "@jupyter-widgets/base",
            "top": null,
            "grid_column": null,
            "overflow_y": null,
            "overflow_x": null,
            "grid_auto_flow": null,
            "grid_area": null,
            "grid_template_columns": null,
            "flex": null,
            "_model_name": "LayoutModel",
            "justify_items": null,
            "grid_row": null,
            "max_height": null,
            "align_content": null,
            "visibility": null,
            "align_self": null,
            "height": null,
            "min_height": null,
            "padding": null,
            "grid_auto_rows": null,
            "grid_gap": null,
            "max_width": null,
            "order": null,
            "_view_module_version": "1.2.0",
            "grid_template_areas": null,
            "object_position": null,
            "object_fit": null,
            "grid_auto_columns": null,
            "margin": null,
            "display": null,
            "left": null
          }
        },
        "2c9f0a6a20c442c1818a55d9a8be43fe": {
          "model_module": "@jupyter-widgets/controls",
          "model_name": "ProgressStyleModel",
          "model_module_version": "1.5.0",
          "state": {
            "_view_name": "StyleView",
            "_model_name": "ProgressStyleModel",
            "description_width": "",
            "_view_module": "@jupyter-widgets/base",
            "_model_module_version": "1.5.0",
            "_view_count": null,
            "_view_module_version": "1.2.0",
            "bar_color": null,
            "_model_module": "@jupyter-widgets/controls"
          }
        },
        "408f6c82859946bd9cd8c0f415726083": {
          "model_module": "@jupyter-widgets/base",
          "model_name": "LayoutModel",
          "model_module_version": "1.2.0",
          "state": {
            "_view_name": "LayoutView",
            "grid_template_rows": null,
            "right": null,
            "justify_content": null,
            "_view_module": "@jupyter-widgets/base",
            "overflow": null,
            "_model_module_version": "1.2.0",
            "_view_count": null,
            "flex_flow": null,
            "width": null,
            "min_width": null,
            "border": null,
            "align_items": null,
            "bottom": null,
            "_model_module": "@jupyter-widgets/base",
            "top": null,
            "grid_column": null,
            "overflow_y": null,
            "overflow_x": null,
            "grid_auto_flow": null,
            "grid_area": null,
            "grid_template_columns": null,
            "flex": null,
            "_model_name": "LayoutModel",
            "justify_items": null,
            "grid_row": null,
            "max_height": null,
            "align_content": null,
            "visibility": null,
            "align_self": null,
            "height": null,
            "min_height": null,
            "padding": null,
            "grid_auto_rows": null,
            "grid_gap": null,
            "max_width": null,
            "order": null,
            "_view_module_version": "1.2.0",
            "grid_template_areas": null,
            "object_position": null,
            "object_fit": null,
            "grid_auto_columns": null,
            "margin": null,
            "display": null,
            "left": null
          }
        },
        "7950af40c0614efca8a297251661acf3": {
          "model_module": "@jupyter-widgets/controls",
          "model_name": "DescriptionStyleModel",
          "model_module_version": "1.5.0",
          "state": {
            "_view_name": "StyleView",
            "_model_name": "DescriptionStyleModel",
            "description_width": "",
            "_view_module": "@jupyter-widgets/base",
            "_model_module_version": "1.5.0",
            "_view_count": null,
            "_view_module_version": "1.2.0",
            "_model_module": "@jupyter-widgets/controls"
          }
        },
        "5285c2e1f1a14b5a83727b31b6086c13": {
          "model_module": "@jupyter-widgets/base",
          "model_name": "LayoutModel",
          "model_module_version": "1.2.0",
          "state": {
            "_view_name": "LayoutView",
            "grid_template_rows": null,
            "right": null,
            "justify_content": null,
            "_view_module": "@jupyter-widgets/base",
            "overflow": null,
            "_model_module_version": "1.2.0",
            "_view_count": null,
            "flex_flow": null,
            "width": null,
            "min_width": null,
            "border": null,
            "align_items": null,
            "bottom": null,
            "_model_module": "@jupyter-widgets/base",
            "top": null,
            "grid_column": null,
            "overflow_y": null,
            "overflow_x": null,
            "grid_auto_flow": null,
            "grid_area": null,
            "grid_template_columns": null,
            "flex": null,
            "_model_name": "LayoutModel",
            "justify_items": null,
            "grid_row": null,
            "max_height": null,
            "align_content": null,
            "visibility": null,
            "align_self": null,
            "height": null,
            "min_height": null,
            "padding": null,
            "grid_auto_rows": null,
            "grid_gap": null,
            "max_width": null,
            "order": null,
            "_view_module_version": "1.2.0",
            "grid_template_areas": null,
            "object_position": null,
            "object_fit": null,
            "grid_auto_columns": null,
            "margin": null,
            "display": null,
            "left": null
          }
        }
      }
    }
  },
  "cells": [
    {
      "cell_type": "code",
      "metadata": {
        "colab": {
          "base_uri": "https://localhost:8080/"
        },
        "id": "cuhhR93r0-fF",
        "outputId": "8ce63f6b-ef67-481d-c731-4a02cef2ced5"
      },
      "source": [
        "!pip install vncorenlp\n",
        "!pip install transformers==4.8.2\n",
        "!pip install emoji\n",
        "!pip install sentence_transformers"
      ],
      "execution_count": 1,
      "outputs": [
        {
          "output_type": "stream",
          "name": "stdout",
          "text": [
            "Collecting vncorenlp\n",
            "  Downloading vncorenlp-1.0.3.tar.gz (2.6 MB)\n",
            "\u001b[K     |████████████████████████████████| 2.6 MB 7.9 MB/s \n",
            "\u001b[?25hRequirement already satisfied: requests in /usr/local/lib/python3.7/dist-packages (from vncorenlp) (2.23.0)\n",
            "Requirement already satisfied: chardet<4,>=3.0.2 in /usr/local/lib/python3.7/dist-packages (from requests->vncorenlp) (3.0.4)\n",
            "Requirement already satisfied: urllib3!=1.25.0,!=1.25.1,<1.26,>=1.21.1 in /usr/local/lib/python3.7/dist-packages (from requests->vncorenlp) (1.24.3)\n",
            "Requirement already satisfied: idna<3,>=2.5 in /usr/local/lib/python3.7/dist-packages (from requests->vncorenlp) (2.10)\n",
            "Requirement already satisfied: certifi>=2017.4.17 in /usr/local/lib/python3.7/dist-packages (from requests->vncorenlp) (2021.5.30)\n",
            "Building wheels for collected packages: vncorenlp\n",
            "  Building wheel for vncorenlp (setup.py) ... \u001b[?25l\u001b[?25hdone\n",
            "  Created wheel for vncorenlp: filename=vncorenlp-1.0.3-py3-none-any.whl size=2645951 sha256=f0c5ebc56a31a1b922c5919c70751e21d36556f2907081f561892f9fa10cf84d\n",
            "  Stored in directory: /root/.cache/pip/wheels/0c/d8/f2/d28d97379b4f6479bf51247c8dfd57fa00932fa7a74b6aab29\n",
            "Successfully built vncorenlp\n",
            "Installing collected packages: vncorenlp\n",
            "Successfully installed vncorenlp-1.0.3\n",
            "Collecting transformers==4.8.2\n",
            "  Downloading transformers-4.8.2-py3-none-any.whl (2.5 MB)\n",
            "\u001b[K     |████████████████████████████████| 2.5 MB 9.6 MB/s \n",
            "\u001b[?25hRequirement already satisfied: importlib-metadata in /usr/local/lib/python3.7/dist-packages (from transformers==4.8.2) (4.8.1)\n",
            "Requirement already satisfied: tqdm>=4.27 in /usr/local/lib/python3.7/dist-packages (from transformers==4.8.2) (4.62.3)\n",
            "Requirement already satisfied: requests in /usr/local/lib/python3.7/dist-packages (from transformers==4.8.2) (2.23.0)\n",
            "Collecting tokenizers<0.11,>=0.10.1\n",
            "  Downloading tokenizers-0.10.3-cp37-cp37m-manylinux_2_5_x86_64.manylinux1_x86_64.manylinux_2_12_x86_64.manylinux2010_x86_64.whl (3.3 MB)\n",
            "\u001b[K     |████████████████████████████████| 3.3 MB 48.4 MB/s \n",
            "\u001b[?25hRequirement already satisfied: regex!=2019.12.17 in /usr/local/lib/python3.7/dist-packages (from transformers==4.8.2) (2019.12.20)\n",
            "Requirement already satisfied: filelock in /usr/local/lib/python3.7/dist-packages (from transformers==4.8.2) (3.3.0)\n",
            "Requirement already satisfied: packaging in /usr/local/lib/python3.7/dist-packages (from transformers==4.8.2) (21.0)\n",
            "Requirement already satisfied: pyyaml in /usr/local/lib/python3.7/dist-packages (from transformers==4.8.2) (3.13)\n",
            "Requirement already satisfied: numpy>=1.17 in /usr/local/lib/python3.7/dist-packages (from transformers==4.8.2) (1.19.5)\n",
            "Collecting huggingface-hub==0.0.12\n",
            "  Downloading huggingface_hub-0.0.12-py3-none-any.whl (37 kB)\n",
            "Collecting sacremoses\n",
            "  Downloading sacremoses-0.0.46-py3-none-any.whl (895 kB)\n",
            "\u001b[K     |████████████████████████████████| 895 kB 53.7 MB/s \n",
            "\u001b[?25hRequirement already satisfied: typing-extensions in /usr/local/lib/python3.7/dist-packages (from huggingface-hub==0.0.12->transformers==4.8.2) (3.7.4.3)\n",
            "Requirement already satisfied: pyparsing>=2.0.2 in /usr/local/lib/python3.7/dist-packages (from packaging->transformers==4.8.2) (2.4.7)\n",
            "Requirement already satisfied: zipp>=0.5 in /usr/local/lib/python3.7/dist-packages (from importlib-metadata->transformers==4.8.2) (3.6.0)\n",
            "Requirement already satisfied: urllib3!=1.25.0,!=1.25.1,<1.26,>=1.21.1 in /usr/local/lib/python3.7/dist-packages (from requests->transformers==4.8.2) (1.24.3)\n",
            "Requirement already satisfied: chardet<4,>=3.0.2 in /usr/local/lib/python3.7/dist-packages (from requests->transformers==4.8.2) (3.0.4)\n",
            "Requirement already satisfied: idna<3,>=2.5 in /usr/local/lib/python3.7/dist-packages (from requests->transformers==4.8.2) (2.10)\n",
            "Requirement already satisfied: certifi>=2017.4.17 in /usr/local/lib/python3.7/dist-packages (from requests->transformers==4.8.2) (2021.5.30)\n",
            "Requirement already satisfied: joblib in /usr/local/lib/python3.7/dist-packages (from sacremoses->transformers==4.8.2) (1.0.1)\n",
            "Requirement already satisfied: click in /usr/local/lib/python3.7/dist-packages (from sacremoses->transformers==4.8.2) (7.1.2)\n",
            "Requirement already satisfied: six in /usr/local/lib/python3.7/dist-packages (from sacremoses->transformers==4.8.2) (1.15.0)\n",
            "Installing collected packages: tokenizers, sacremoses, huggingface-hub, transformers\n",
            "Successfully installed huggingface-hub-0.0.12 sacremoses-0.0.46 tokenizers-0.10.3 transformers-4.8.2\n",
            "Collecting emoji\n",
            "  Downloading emoji-1.6.0.tar.gz (168 kB)\n",
            "\u001b[K     |████████████████████████████████| 168 kB 7.7 MB/s \n",
            "\u001b[?25hBuilding wheels for collected packages: emoji\n",
            "  Building wheel for emoji (setup.py) ... \u001b[?25l\u001b[?25hdone\n",
            "  Created wheel for emoji: filename=emoji-1.6.0-py3-none-any.whl size=168256 sha256=762335df122f7e095ac40e1530b4949435a7407f67b217bad5449df2479cec12\n",
            "  Stored in directory: /root/.cache/pip/wheels/f7/d7/74/c720aaf345a042b0c2d74361873258c5e8649b7f11b2ccce49\n",
            "Successfully built emoji\n",
            "Installing collected packages: emoji\n",
            "Successfully installed emoji-1.6.0\n",
            "Collecting sentence_transformers\n",
            "  Downloading sentence-transformers-2.1.0.tar.gz (78 kB)\n",
            "\u001b[K     |████████████████████████████████| 78 kB 4.8 MB/s \n",
            "\u001b[?25hRequirement already satisfied: transformers<5.0.0,>=4.6.0 in /usr/local/lib/python3.7/dist-packages (from sentence_transformers) (4.8.2)\n",
            "Requirement already satisfied: tokenizers>=0.10.3 in /usr/local/lib/python3.7/dist-packages (from sentence_transformers) (0.10.3)\n",
            "Requirement already satisfied: tqdm in /usr/local/lib/python3.7/dist-packages (from sentence_transformers) (4.62.3)\n",
            "Requirement already satisfied: torch>=1.6.0 in /usr/local/lib/python3.7/dist-packages (from sentence_transformers) (1.9.0+cu111)\n",
            "Requirement already satisfied: torchvision in /usr/local/lib/python3.7/dist-packages (from sentence_transformers) (0.10.0+cu111)\n",
            "Requirement already satisfied: numpy in /usr/local/lib/python3.7/dist-packages (from sentence_transformers) (1.19.5)\n",
            "Requirement already satisfied: scikit-learn in /usr/local/lib/python3.7/dist-packages (from sentence_transformers) (0.22.2.post1)\n",
            "Requirement already satisfied: scipy in /usr/local/lib/python3.7/dist-packages (from sentence_transformers) (1.4.1)\n",
            "Requirement already satisfied: nltk in /usr/local/lib/python3.7/dist-packages (from sentence_transformers) (3.2.5)\n",
            "Collecting sentencepiece\n",
            "  Downloading sentencepiece-0.1.96-cp37-cp37m-manylinux_2_17_x86_64.manylinux2014_x86_64.whl (1.2 MB)\n",
            "\u001b[K     |████████████████████████████████| 1.2 MB 17.9 MB/s \n",
            "\u001b[?25hRequirement already satisfied: huggingface-hub in /usr/local/lib/python3.7/dist-packages (from sentence_transformers) (0.0.12)\n",
            "Requirement already satisfied: typing-extensions in /usr/local/lib/python3.7/dist-packages (from torch>=1.6.0->sentence_transformers) (3.7.4.3)\n",
            "Requirement already satisfied: regex!=2019.12.17 in /usr/local/lib/python3.7/dist-packages (from transformers<5.0.0,>=4.6.0->sentence_transformers) (2019.12.20)\n",
            "Requirement already satisfied: sacremoses in /usr/local/lib/python3.7/dist-packages (from transformers<5.0.0,>=4.6.0->sentence_transformers) (0.0.46)\n",
            "Requirement already satisfied: requests in /usr/local/lib/python3.7/dist-packages (from transformers<5.0.0,>=4.6.0->sentence_transformers) (2.23.0)\n",
            "Requirement already satisfied: filelock in /usr/local/lib/python3.7/dist-packages (from transformers<5.0.0,>=4.6.0->sentence_transformers) (3.3.0)\n",
            "Requirement already satisfied: packaging in /usr/local/lib/python3.7/dist-packages (from transformers<5.0.0,>=4.6.0->sentence_transformers) (21.0)\n",
            "Requirement already satisfied: importlib-metadata in /usr/local/lib/python3.7/dist-packages (from transformers<5.0.0,>=4.6.0->sentence_transformers) (4.8.1)\n",
            "Requirement already satisfied: pyyaml in /usr/local/lib/python3.7/dist-packages (from transformers<5.0.0,>=4.6.0->sentence_transformers) (3.13)\n",
            "Requirement already satisfied: pyparsing>=2.0.2 in /usr/local/lib/python3.7/dist-packages (from packaging->transformers<5.0.0,>=4.6.0->sentence_transformers) (2.4.7)\n",
            "Requirement already satisfied: zipp>=0.5 in /usr/local/lib/python3.7/dist-packages (from importlib-metadata->transformers<5.0.0,>=4.6.0->sentence_transformers) (3.6.0)\n",
            "Requirement already satisfied: six in /usr/local/lib/python3.7/dist-packages (from nltk->sentence_transformers) (1.15.0)\n",
            "Requirement already satisfied: certifi>=2017.4.17 in /usr/local/lib/python3.7/dist-packages (from requests->transformers<5.0.0,>=4.6.0->sentence_transformers) (2021.5.30)\n",
            "Requirement already satisfied: chardet<4,>=3.0.2 in /usr/local/lib/python3.7/dist-packages (from requests->transformers<5.0.0,>=4.6.0->sentence_transformers) (3.0.4)\n",
            "Requirement already satisfied: idna<3,>=2.5 in /usr/local/lib/python3.7/dist-packages (from requests->transformers<5.0.0,>=4.6.0->sentence_transformers) (2.10)\n",
            "Requirement already satisfied: urllib3!=1.25.0,!=1.25.1,<1.26,>=1.21.1 in /usr/local/lib/python3.7/dist-packages (from requests->transformers<5.0.0,>=4.6.0->sentence_transformers) (1.24.3)\n",
            "Requirement already satisfied: joblib in /usr/local/lib/python3.7/dist-packages (from sacremoses->transformers<5.0.0,>=4.6.0->sentence_transformers) (1.0.1)\n",
            "Requirement already satisfied: click in /usr/local/lib/python3.7/dist-packages (from sacremoses->transformers<5.0.0,>=4.6.0->sentence_transformers) (7.1.2)\n",
            "Requirement already satisfied: pillow>=5.3.0 in /usr/local/lib/python3.7/dist-packages (from torchvision->sentence_transformers) (7.1.2)\n",
            "Building wheels for collected packages: sentence-transformers\n",
            "  Building wheel for sentence-transformers (setup.py) ... \u001b[?25l\u001b[?25hdone\n",
            "  Created wheel for sentence-transformers: filename=sentence_transformers-2.1.0-py3-none-any.whl size=121000 sha256=48c6b8a69fc4167376b4379e526ac2782278ea4df1e3efe6b13141bc88fdd0e6\n",
            "  Stored in directory: /root/.cache/pip/wheels/90/f0/bb/ed1add84da70092ea526466eadc2bfb197c4bcb8d4fa5f7bad\n",
            "Successfully built sentence-transformers\n",
            "Installing collected packages: sentencepiece, sentence-transformers\n",
            "Successfully installed sentence-transformers-2.1.0 sentencepiece-0.1.96\n"
          ]
        }
      ]
    },
    {
      "cell_type": "code",
      "metadata": {
        "colab": {
          "base_uri": "https://localhost:8080/"
        },
        "id": "rSkW0n4t1MqR",
        "outputId": "aed19f3a-ba98-4663-84e9-54cb958b00b9"
      },
      "source": [
        "from torch import cuda\n",
        "device = 'cuda' if cuda.is_available() else 'cpu'\n",
        "!nvidia-smi"
      ],
      "execution_count": 2,
      "outputs": [
        {
          "output_type": "stream",
          "name": "stdout",
          "text": [
            "Sun Oct 10 06:30:12 2021       \n",
            "+-----------------------------------------------------------------------------+\n",
            "| NVIDIA-SMI 470.74       Driver Version: 460.32.03    CUDA Version: 11.2     |\n",
            "|-------------------------------+----------------------+----------------------+\n",
            "| GPU  Name        Persistence-M| Bus-Id        Disp.A | Volatile Uncorr. ECC |\n",
            "| Fan  Temp  Perf  Pwr:Usage/Cap|         Memory-Usage | GPU-Util  Compute M. |\n",
            "|                               |                      |               MIG M. |\n",
            "|===============================+======================+======================|\n",
            "|   0  Tesla P100-PCIE...  Off  | 00000000:00:04.0 Off |                    0 |\n",
            "| N/A   42C    P0    27W / 250W |      2MiB / 16280MiB |      0%      Default |\n",
            "|                               |                      |                  N/A |\n",
            "+-------------------------------+----------------------+----------------------+\n",
            "                                                                               \n",
            "+-----------------------------------------------------------------------------+\n",
            "| Processes:                                                                  |\n",
            "|  GPU   GI   CI        PID   Type   Process name                  GPU Memory |\n",
            "|        ID   ID                                                   Usage      |\n",
            "|=============================================================================|\n",
            "|  No running processes found                                                 |\n",
            "+-----------------------------------------------------------------------------+\n"
          ]
        }
      ]
    },
    {
      "cell_type": "code",
      "metadata": {
        "colab": {
          "base_uri": "https://localhost:8080/"
        },
        "id": "Rpp9P4hX1SBE",
        "outputId": "140d63fc-2471-4df6-d1d6-511738831705"
      },
      "source": [
        "from google.colab import drive\n",
        "drive.mount('/content/drive')"
      ],
      "execution_count": 3,
      "outputs": [
        {
          "output_type": "stream",
          "name": "stdout",
          "text": [
            "Mounted at /content/drive\n"
          ]
        }
      ]
    },
    {
      "cell_type": "code",
      "metadata": {
        "id": "JHMlm4kk1T8Q"
      },
      "source": [
        "train_path = \"/content/drive/MyDrive/VLSP-Fake-News-Detection/public_train.csv\"\n",
        "test_path = \"/content/drive/MyDrive/VLSP-Fake-News-Detection/final_private_test.csv\"\n",
        "val_path = \"/content/drive/MyDrive/VLSP-Fake-News-Detection/val.csv\""
      ],
      "execution_count": 4,
      "outputs": []
    },
    {
      "cell_type": "code",
      "metadata": {
        "id": "eF9hOai21o_a"
      },
      "source": [
        "import pandas as pd\n",
        "import numpy as np\n",
        "import seaborn as sns\n",
        "import pickle, os, re, json\n",
        "import matplotlib.pyplot as plt\n",
        "import torch\n",
        "import gc\n",
        "import torch.nn as nn\n",
        "\n",
        "from vncorenlp import VnCoreNLP\n",
        "from nltk.tokenize import TweetTokenizer\n",
        "from scipy.stats import zscore\n",
        "from torch.utils.data import Dataset, DataLoader, TensorDataset, RandomSampler\n",
        "from sklearn.preprocessing import MinMaxScaler, StandardScaler, QuantileTransformer\n",
        "from sklearn.feature_extraction.text import TfidfVectorizer, TfidfTransformer, CountVectorizer\n",
        "from collections import *\n",
        "from datetime import datetime\n",
        "from transformers import *\n",
        "from sklearn.metrics import *\n",
        "from sklearn.model_selection import train_test_split\n",
        "from transformers import logging\n",
        "from lightgbm import LGBMClassifier, LGBMModel\n",
        "from transformers import AutoModel, AutoTokenizer, AdamW, get_linear_schedule_with_warmup\n",
        "from pandas import DataFrame\n",
        "from pandas._libs.missing import NAType"
      ],
      "execution_count": 5,
      "outputs": []
    },
    {
      "cell_type": "code",
      "metadata": {
        "id": "ytRIMngh1q9K"
      },
      "source": [
        "data_train = pd.read_csv(train_path, encoding=\"utf-8\")\n",
        "data_test = pd.read_csv(test_path, encoding=\"utf-8\")\n",
        "data_val = pd.read_csv(val_path, encoding=\"utf-8\")"
      ],
      "execution_count": 6,
      "outputs": []
    },
    {
      "cell_type": "code",
      "metadata": {
        "id": "usPsFKCU11IB"
      },
      "source": [
        "#Time stamp feature\n",
        "data_train['timestamp_post'] = pd.to_numeric(data_train['timestamp_post'], errors='coerce')\n",
        "data_train['timestamp_post'] = data_train['timestamp_post'].astype('Int64')\n",
        "\n",
        "data_test['timestamp_post'] = pd.to_numeric(data_test['timestamp_post'], errors='coerce')\n",
        "data_test['timestamp_post'] = data_test['timestamp_post'].astype('Int64')\n",
        "\n",
        "#Number of shares feature\n",
        "data_train['num_share_post'] = pd.to_numeric(data_train['num_share_post'], errors='coerce')\n",
        "data_train['num_share_post'] = data_train['num_share_post'].astype('Int64')\n",
        "data_test['num_share_post'] = pd.to_numeric(data_test['num_share_post'], errors='coerce')\n",
        "data_test['num_share_post'] = data_test['num_share_post'].astype('Int64')\n",
        "\n",
        "#Number of likes feature\n",
        "data_train['num_like_post'] = pd.to_numeric(data_train['num_like_post'], errors='coerce')\n",
        "data_train['num_like_post'] = data_train['num_like_post'].astype('Int64')\n",
        "data_test['num_like_post'] = pd.to_numeric(data_test['num_like_post'], errors='coerce')\n",
        "data_test['num_like_post'] = data_test['num_like_post'].astype('Int64')\n",
        "\n",
        "#Number of comments feature\n",
        "data_train['num_comment_post'] = pd.to_numeric(data_train['num_comment_post'], errors='coerce')\n",
        "data_train['num_comment_post'] = data_train['num_comment_post'].astype('Int64')\n",
        "data_test['num_comment_post'] = pd.to_numeric(data_test['num_comment_post'], errors='coerce')\n",
        "data_test['num_comment_post'] = data_test['num_comment_post'].astype('Int64')\n",
        "\n",
        "data_train['post_message'] = data_train['post_message'].fillna('empty')"
      ],
      "execution_count": 7,
      "outputs": []
    },
    {
      "cell_type": "code",
      "metadata": {
        "id": "GSp9pkzm15I0"
      },
      "source": [
        "timestamp_lst = data_train['timestamp_post']\n",
        "likes_lst = data_train['num_like_post']\n",
        "comment_lst = data_train['num_comment_post']\n",
        "share_lst = data_train['num_share_post']\n",
        "\n",
        "test_timestamp_lst = data_test['timestamp_post']\n",
        "test_likes_lst = data_test['num_like_post']\n",
        "test_comment_lst = data_test['num_comment_post']\n",
        "test_share_lst = data_test['num_share_post']"
      ],
      "execution_count": 8,
      "outputs": []
    },
    {
      "cell_type": "code",
      "metadata": {
        "id": "JjOJhUhi5l3c"
      },
      "source": [
        "def null_index_list(df, feature):\n",
        "  return df[feature][df[feature].isnull()].index.tolist()"
      ],
      "execution_count": 9,
      "outputs": []
    },
    {
      "cell_type": "code",
      "metadata": {
        "id": "T7y50ckd169V"
      },
      "source": [
        "nan_timestamp_idxs = null_index_list(data_train, \"timestamp_post\")\n",
        "nan_like_idxs = null_index_list(data_train, \"num_like_post\")\n",
        "nan_share_idxs = null_index_list(data_train, \"num_share_post\")\n",
        "nan_comment_idxs = null_index_list(data_train, \"num_comment_post\")"
      ],
      "execution_count": 10,
      "outputs": []
    },
    {
      "cell_type": "code",
      "metadata": {
        "id": "HSrfDR4Q6Yiw"
      },
      "source": [
        "test_nan_timestamp_idxs = null_index_list(data_test, \"timestamp_post\")\n",
        "test_nan_like_idxs = null_index_list(data_test, \"num_like_post\")\n",
        "test_nan_share_idxs = null_index_list(data_test, \"num_share_post\")\n",
        "test_nan_comment_idxs = null_index_list(data_test, \"num_comment_post\")"
      ],
      "execution_count": 11,
      "outputs": []
    },
    {
      "cell_type": "code",
      "metadata": {
        "id": "i8s0b_ks6oV0"
      },
      "source": [
        "def normalizePost(post, tweet_tokenizer, vncorenlp, use_segment=False, remove_punc_stopword=False, lowercase_opt=False, truncation_method=\"head_only\", length=512):\n",
        "    post = post.strip()\n",
        "    URL_pattern = r\"(?:http?s://|www.)[^\\\"]+\"\n",
        "    hashtag_pattern = r\"#\\s?\\w+\"\n",
        "\n",
        "    post = re.sub(URL_pattern, \"link\", post)\n",
        "    post = re.sub(hashtag_pattern, \"hashtag\", post)\n",
        "    post = re.sub('\\.+','.', post)\n",
        "    if lowercase_opt:\n",
        "      post = post.lower()\n",
        "    tokens = tweet_tokenizer.tokenize(post.replace(\"’\", \"'\").replace(\"…\", \"...\"))\n",
        "    \n",
        "    post = \" \".join(tokens)\n",
        "    if use_segment:\n",
        "        tokens = vncorenlp.tokenize(post.replace(\"’\", \"'\").replace(\"…\", \"...\"))\n",
        "        tokens = [t for ts in tokens for t in ts]\n",
        "    normPost = \" \".join(tokens)\n",
        "\n",
        "    if remove_punc_stopword:\n",
        "      tokens = [t for t in normPost if not t in vnmese_stopwords]\n",
        "    normPost = \" \".join(tokens)\n",
        "\n",
        "    normPost = re.sub(r\",([0-9]{2,4}) , ([0-9]{2,4})\", r\",\\1,\\2\", normPost)\n",
        "    normPost = re.sub(r\"([0-9]{1,3}) / ([0-9]{2,4})\", r\"\\1/\\2\", normPost)\n",
        "    normPost = re.sub(r\"([0-9]{1,3})- ([0-9]{2,4})\", r\"\\1-\\2\", normPost)\n",
        "    if use_segment:\n",
        "        normPost = normPost.replace('< url >', '<url>')\n",
        "        normPost = re.sub(r\"# (\\w+)\", r'#\\1', normPost)\n",
        "    if truncation_method == \"head_only\":\n",
        "      normPost = \" \".join(normPost.split(\" \")[:length])\n",
        "    if truncation_method == \"tail_only\":\n",
        "      normPost = \" \".join(normPost.split(\" \")[-length:])\n",
        "    if truncation_method == \"head_tail\":\n",
        "      normPost = \" \".join(normPost.split(\" \")[:int(length*0.25)]) + \" \" +  \" \".join(normPost.split(\" \")[-int(length*0.75):])\n",
        "    return normPost"
      ],
      "execution_count": 12,
      "outputs": []
    },
    {
      "cell_type": "code",
      "metadata": {
        "id": "6toQECK58ViX"
      },
      "source": [
        "rdrsegmenter = VnCoreNLP(\"/content/drive/MyDrive/VLSP-Fake-News-Detection/vncorenlp/VnCoreNLP-1.1.1.jar\", annotators=\"wseg\")\n",
        "tweet_tokenizer = TweetTokenizer()"
      ],
      "execution_count": 13,
      "outputs": []
    },
    {
      "cell_type": "code",
      "metadata": {
        "id": "N1-LvR8k8ZVl"
      },
      "source": [
        "sentences = data_train['post_message'].tolist()\n",
        "sents = []\n",
        "test_sents = []\n",
        "\n",
        "for post in data_train.post_message:\n",
        "  sents.append(normalizePost(post, tweet_tokenizer, rdrsegmenter, True, False, False, \"head_only\", 512))\n",
        "\n",
        "for test_post in data_test.post_message:\n",
        "  test_sents.append(normalizePost(test_post, tweet_tokenizer, rdrsegmenter, True, False, False, \"head_only\", 512))"
      ],
      "execution_count": 14,
      "outputs": []
    },
    {
      "cell_type": "code",
      "metadata": {
        "id": "4-_hmdVT8gIb",
        "colab": {
          "base_uri": "https://localhost:8080/",
          "height": 433,
          "referenced_widgets": [
            "2ebce6ad7bee4d00b1317dc205a96bf7",
            "983404f0e1374023b5c7f6bd5af4553d",
            "574429d054954cf499c347e57bf0989c",
            "350d59c54c0648ff95b58c9a28d78c6d",
            "c3c5c07cbfa64cc7826c8013785cd4a1",
            "ebbd4f21ce9a49d3a84f36a6dc78cef0",
            "59810ac61bde463a8d795653b4ebb390",
            "ac76351ba9f04135aba2f9dd3eb52529",
            "46ec79f118904546bf20a7421a869154",
            "6291d9e4740d432499f4fff7fa5942b9",
            "77d0ba390c19462c8bbaa724e5a1f68b",
            "45922a614e6b4cf68923e33dff517b07",
            "0016abe4ae374da494c4013835d361d0",
            "a7d01ae8c931410c9e62d969a288bbf0",
            "e7a2aa2c275b4b1ab5b161d387434ace",
            "46d130e25e5f4ecda69a8f658c4e8f5f",
            "9ede13777c0d48d0a35a96904e4a736a",
            "e7025bf209c5406cb44056d6d7c55e23",
            "2c9f0a6a20c442c1818a55d9a8be43fe",
            "408f6c82859946bd9cd8c0f415726083",
            "7950af40c0614efca8a297251661acf3",
            "5285c2e1f1a14b5a83727b31b6086c13"
          ]
        },
        "outputId": "583c5f17-0738-4d83-f903-fca16904a9b3"
      },
      "source": [
        "from sentence_transformers import SentenceTransformer\n",
        "sent_model = SentenceTransformer('bert-base-nli-mean-tokens')"
      ],
      "execution_count": 15,
      "outputs": [
        {
          "output_type": "display_data",
          "data": {
            "application/vnd.jupyter.widget-view+json": {
              "model_id": "2ebce6ad7bee4d00b1317dc205a96bf7",
              "version_minor": 0,
              "version_major": 2
            },
            "text/plain": [
              "Downloading:   0%|          | 0.00/391 [00:00<?, ?B/s]"
            ]
          },
          "metadata": {}
        },
        {
          "output_type": "display_data",
          "data": {
            "application/vnd.jupyter.widget-view+json": {
              "model_id": "45922a614e6b4cf68923e33dff517b07",
              "version_minor": 0,
              "version_major": 2
            },
            "text/plain": [
              "Downloading:   0%|          | 0.00/3.95k [00:00<?, ?B/s]"
            ]
          },
          "metadata": {}
        },
        {
          "output_type": "display_data",
          "data": {
            "application/vnd.jupyter.widget-view+json": {
              "model_id": "76075975afbc43a99dbcd45fedeae0ae",
              "version_minor": 0,
              "version_major": 2
            },
            "text/plain": [
              "Downloading:   0%|          | 0.00/2.00 [00:00<?, ?B/s]"
            ]
          },
          "metadata": {}
        },
        {
          "output_type": "display_data",
          "data": {
            "application/vnd.jupyter.widget-view+json": {
              "model_id": "be815c68c2b448e195df1c5486a6db35",
              "version_minor": 0,
              "version_major": 2
            },
            "text/plain": [
              "Downloading:   0%|          | 0.00/625 [00:00<?, ?B/s]"
            ]
          },
          "metadata": {}
        },
        {
          "output_type": "display_data",
          "data": {
            "application/vnd.jupyter.widget-view+json": {
              "model_id": "dd4961b61d4949a78df7b23d16308eef",
              "version_minor": 0,
              "version_major": 2
            },
            "text/plain": [
              "Downloading:   0%|          | 0.00/122 [00:00<?, ?B/s]"
            ]
          },
          "metadata": {}
        },
        {
          "output_type": "display_data",
          "data": {
            "application/vnd.jupyter.widget-view+json": {
              "model_id": "af99cbe9720449e38b661b58d9543369",
              "version_minor": 0,
              "version_major": 2
            },
            "text/plain": [
              "Downloading:   0%|          | 0.00/229 [00:00<?, ?B/s]"
            ]
          },
          "metadata": {}
        },
        {
          "output_type": "display_data",
          "data": {
            "application/vnd.jupyter.widget-view+json": {
              "model_id": "f8d4dd814f6d4feebda9193a96ad8b64",
              "version_minor": 0,
              "version_major": 2
            },
            "text/plain": [
              "Downloading:   0%|          | 0.00/438M [00:00<?, ?B/s]"
            ]
          },
          "metadata": {}
        },
        {
          "output_type": "display_data",
          "data": {
            "application/vnd.jupyter.widget-view+json": {
              "model_id": "94b5c3d0777849c8ab33f3729b5ac3cb",
              "version_minor": 0,
              "version_major": 2
            },
            "text/plain": [
              "Downloading:   0%|          | 0.00/53.0 [00:00<?, ?B/s]"
            ]
          },
          "metadata": {}
        },
        {
          "output_type": "display_data",
          "data": {
            "application/vnd.jupyter.widget-view+json": {
              "model_id": "113f89020c4d4984bb7540cf07105ae1",
              "version_minor": 0,
              "version_major": 2
            },
            "text/plain": [
              "Downloading:   0%|          | 0.00/112 [00:00<?, ?B/s]"
            ]
          },
          "metadata": {}
        },
        {
          "output_type": "display_data",
          "data": {
            "application/vnd.jupyter.widget-view+json": {
              "model_id": "295d74b9fd03406984a3f9c10538ce1a",
              "version_minor": 0,
              "version_major": 2
            },
            "text/plain": [
              "Downloading:   0%|          | 0.00/466k [00:00<?, ?B/s]"
            ]
          },
          "metadata": {}
        },
        {
          "output_type": "display_data",
          "data": {
            "application/vnd.jupyter.widget-view+json": {
              "model_id": "d4d946fb7ca24cc2a7625f66e5ef2c39",
              "version_minor": 0,
              "version_major": 2
            },
            "text/plain": [
              "Downloading:   0%|          | 0.00/399 [00:00<?, ?B/s]"
            ]
          },
          "metadata": {}
        },
        {
          "output_type": "display_data",
          "data": {
            "application/vnd.jupyter.widget-view+json": {
              "model_id": "c13626accfc747e3b08e89217c86fac1",
              "version_minor": 0,
              "version_major": 2
            },
            "text/plain": [
              "Downloading:   0%|          | 0.00/232k [00:00<?, ?B/s]"
            ]
          },
          "metadata": {}
        },
        {
          "output_type": "display_data",
          "data": {
            "application/vnd.jupyter.widget-view+json": {
              "model_id": "fa6570a9a109446a87dbd4433a69c389",
              "version_minor": 0,
              "version_major": 2
            },
            "text/plain": [
              "Downloading:   0%|          | 0.00/190 [00:00<?, ?B/s]"
            ]
          },
          "metadata": {}
        }
      ]
    },
    {
      "cell_type": "code",
      "metadata": {
        "colab": {
          "base_uri": "https://localhost:8080/"
        },
        "id": "st4m5nZi8yDD",
        "outputId": "128dd13a-2909-4e1d-abf5-aefd6c7d9507"
      },
      "source": [
        "sen_embeddings = sent_model.encode(sents)\n",
        "test_sen_embeddings = sent_model.encode(test_sents)\n",
        "print(sen_embeddings.shape)"
      ],
      "execution_count": 16,
      "outputs": [
        {
          "output_type": "stream",
          "name": "stdout",
          "text": [
            "(4372, 768)\n"
          ]
        }
      ]
    },
    {
      "cell_type": "code",
      "metadata": {
        "id": "qENL23Od81Ap"
      },
      "source": [
        "from sklearn.metrics.pairwise import cosine_similarity\n",
        "pairwise_similarities=cosine_similarity(sen_embeddings)\n",
        "test_pairwise_similarities = cosine_similarity(test_sen_embeddings)"
      ],
      "execution_count": 17,
      "outputs": []
    },
    {
      "cell_type": "code",
      "metadata": {
        "id": "Q9dTIXhE89NX"
      },
      "source": [
        "def fill_missing(df, pairwise_similarity, feature, features_list):\n",
        "  for i in features_list:\n",
        "    max_val, pos_i, pos_j = -1, -1, -1\n",
        "    for j in range(len(pairwise_similarity[i])):\n",
        "      if i == j or j in features_list:\n",
        "        continue\n",
        "      elif pairwise_similarities[i][j] > max_val:\n",
        "        #max_val = pairwise_similarities[i][j]\n",
        "        pos_i = i\n",
        "        pos_j = j\n",
        "    df[feature][pos_i] = df[feature][pos_j]"
      ],
      "execution_count": 18,
      "outputs": []
    },
    {
      "cell_type": "code",
      "metadata": {
        "id": "EAMRRJEw9G0A"
      },
      "source": [
        "fill_missing(data_train, pairwise_similarities, \"num_share_post\", nan_share_idxs)\n",
        "fill_missing(data_train, pairwise_similarities, \"num_like_post\", nan_like_idxs)\n",
        "fill_missing(data_train, pairwise_similarities, \"num_comment_post\", nan_comment_idxs)\n",
        "fill_missing(data_train, pairwise_similarities, \"timestamp_post\", nan_timestamp_idxs)\n",
        "\n",
        "fill_missing(data_test, test_pairwise_similarities, \"num_share_post\", test_nan_share_idxs)\n",
        "fill_missing(data_test, test_pairwise_similarities, \"num_like_post\", test_nan_like_idxs)\n",
        "fill_missing(data_test, test_pairwise_similarities, \"num_comment_post\", test_nan_comment_idxs)\n",
        "fill_missing(data_test, test_pairwise_similarities, \"timestamp_post\", test_nan_timestamp_idxs)"
      ],
      "execution_count": 19,
      "outputs": []
    },
    {
      "cell_type": "code",
      "metadata": {
        "id": "2o8annAW9Io_"
      },
      "source": [
        "dates = []\n",
        "for ts in data_train['timestamp_post']:\n",
        "  date = datetime.fromtimestamp(ts)\n",
        "  dates.append(date)"
      ],
      "execution_count": 20,
      "outputs": []
    },
    {
      "cell_type": "code",
      "metadata": {
        "id": "T_NbYz0j-UVn"
      },
      "source": [
        "hours, weekdays, days, months, years = [], [], [], [], []\n",
        "for date in dates:\n",
        "  hour = date.hour\n",
        "  day = date.day\n",
        "  weekday = date.weekday()\n",
        "  year = date.year\n",
        "  month = date.month\n",
        "  hours.append(hour)\n",
        "  days.append(day)\n",
        "  weekdays.append(weekday)\n",
        "  years.append(year)\n",
        "  months.append(month)"
      ],
      "execution_count": 21,
      "outputs": []
    },
    {
      "cell_type": "code",
      "metadata": {
        "id": "j8HXYlxb-VOt"
      },
      "source": [
        "test_dates = []\n",
        "for ts in data_test['timestamp_post']:\n",
        "  date = datetime.fromtimestamp(ts)\n",
        "  test_dates.append(date)"
      ],
      "execution_count": 22,
      "outputs": []
    },
    {
      "cell_type": "code",
      "metadata": {
        "id": "Kngq8pqy_BAv"
      },
      "source": [
        "test_hours, test_weekdays, test_days, test_months, test_years = [], [], [], [], []\n",
        "for test_date in test_dates:\n",
        "  test_hour = test_date.hour\n",
        "  test_day = test_date.day\n",
        "  test_weekday = test_date.weekday()\n",
        "  test_year = test_date.year\n",
        "  test_month = test_date.month\n",
        "  test_hours.append(test_hour)\n",
        "  test_days.append(test_day)\n",
        "  test_weekdays.append(test_weekday)\n",
        "  test_years.append(test_year)\n",
        "  test_months.append(test_month)"
      ],
      "execution_count": 23,
      "outputs": []
    },
    {
      "cell_type": "code",
      "metadata": {
        "id": "1SgOeHh__DeR"
      },
      "source": [
        "data_train['day'] = days\n",
        "data_train['month'] = months\n",
        "data_train['year'] = years\n",
        "data_train['weekday'] = weekdays\n",
        "data_train['hour'] = hours"
      ],
      "execution_count": 24,
      "outputs": []
    },
    {
      "cell_type": "code",
      "metadata": {
        "id": "USwb_vw3_Mju"
      },
      "source": [
        "data_test['day'] = test_days\n",
        "data_test['month'] = test_months\n",
        "data_test['year'] = test_years\n",
        "data_test['weekday'] = test_weekdays\n",
        "data_test['hour'] = test_hours"
      ],
      "execution_count": 25,
      "outputs": []
    },
    {
      "cell_type": "code",
      "metadata": {
        "id": "KL7HUOXa_OYP"
      },
      "source": [
        "data_train = data_train.drop(columns=\"timestamp_post\")\n",
        "data_test = data_test.drop(columns=\"timestamp_post\")"
      ],
      "execution_count": 26,
      "outputs": []
    },
    {
      "cell_type": "code",
      "metadata": {
        "colab": {
          "base_uri": "https://localhost:8080/",
          "height": 204
        },
        "id": "dW4YhsBB_xNS",
        "outputId": "945c0da5-fd21-43da-9abd-8e6fce457d8b"
      },
      "source": [
        "data_train.head()"
      ],
      "execution_count": 27,
      "outputs": [
        {
          "output_type": "execute_result",
          "data": {
            "text/html": [
              "<div>\n",
              "<style scoped>\n",
              "    .dataframe tbody tr th:only-of-type {\n",
              "        vertical-align: middle;\n",
              "    }\n",
              "\n",
              "    .dataframe tbody tr th {\n",
              "        vertical-align: top;\n",
              "    }\n",
              "\n",
              "    .dataframe thead th {\n",
              "        text-align: right;\n",
              "    }\n",
              "</style>\n",
              "<table border=\"1\" class=\"dataframe\">\n",
              "  <thead>\n",
              "    <tr style=\"text-align: right;\">\n",
              "      <th></th>\n",
              "      <th>id</th>\n",
              "      <th>user_name</th>\n",
              "      <th>post_message</th>\n",
              "      <th>num_like_post</th>\n",
              "      <th>num_comment_post</th>\n",
              "      <th>num_share_post</th>\n",
              "      <th>label</th>\n",
              "      <th>day</th>\n",
              "      <th>month</th>\n",
              "      <th>year</th>\n",
              "      <th>weekday</th>\n",
              "      <th>hour</th>\n",
              "    </tr>\n",
              "  </thead>\n",
              "  <tbody>\n",
              "    <tr>\n",
              "      <th>0</th>\n",
              "      <td>1</td>\n",
              "      <td>389c669730cb6c54314a46be785cea42</td>\n",
              "      <td>THĂNG CẤP BẬC HÀM ĐỐI VỚI 2 CÁN BỘ, CHIẾN SỸ H...</td>\n",
              "      <td>19477</td>\n",
              "      <td>378</td>\n",
              "      <td>173</td>\n",
              "      <td>0</td>\n",
              "      <td>3</td>\n",
              "      <td>4</td>\n",
              "      <td>2020</td>\n",
              "      <td>4</td>\n",
              "      <td>20</td>\n",
              "    </tr>\n",
              "    <tr>\n",
              "      <th>1</th>\n",
              "      <td>2</td>\n",
              "      <td>775baa6d037b6d359b229a656eaeaf08</td>\n",
              "      <td>&lt;URL&gt;</td>\n",
              "      <td>11</td>\n",
              "      <td>5</td>\n",
              "      <td>3</td>\n",
              "      <td>0</td>\n",
              "      <td>8</td>\n",
              "      <td>5</td>\n",
              "      <td>2020</td>\n",
              "      <td>4</td>\n",
              "      <td>11</td>\n",
              "    </tr>\n",
              "    <tr>\n",
              "      <th>2</th>\n",
              "      <td>3</td>\n",
              "      <td>b9f3394d2aff86d85974f5040c401f08</td>\n",
              "      <td>TƯ VẤN MÙA THI: Cách nộp hồ sơ để trúng tuyển ...</td>\n",
              "      <td>48</td>\n",
              "      <td>5</td>\n",
              "      <td>19</td>\n",
              "      <td>0</td>\n",
              "      <td>6</td>\n",
              "      <td>6</td>\n",
              "      <td>2020</td>\n",
              "      <td>5</td>\n",
              "      <td>1</td>\n",
              "    </tr>\n",
              "    <tr>\n",
              "      <th>3</th>\n",
              "      <td>4</td>\n",
              "      <td>808e278b22ec6b96f2faf7447d10cd8e</td>\n",
              "      <td>Cơ quan Cạnh tranh và Thị trường Anh quyết địn...</td>\n",
              "      <td>3</td>\n",
              "      <td>0</td>\n",
              "      <td>0</td>\n",
              "      <td>0</td>\n",
              "      <td>13</td>\n",
              "      <td>6</td>\n",
              "      <td>2020</td>\n",
              "      <td>5</td>\n",
              "      <td>4</td>\n",
              "    </tr>\n",
              "    <tr>\n",
              "      <th>4</th>\n",
              "      <td>5</td>\n",
              "      <td>f81bdd6d8be4c5f64bb664214e47aced</td>\n",
              "      <td>Thêm 7 ca tại Quảng Nam liên quan đến hành khá...</td>\n",
              "      <td>775</td>\n",
              "      <td>0</td>\n",
              "      <td>54</td>\n",
              "      <td>0</td>\n",
              "      <td>9</td>\n",
              "      <td>3</td>\n",
              "      <td>2020</td>\n",
              "      <td>0</td>\n",
              "      <td>7</td>\n",
              "    </tr>\n",
              "  </tbody>\n",
              "</table>\n",
              "</div>"
            ],
            "text/plain": [
              "   id                         user_name  ... weekday  hour\n",
              "0   1  389c669730cb6c54314a46be785cea42  ...       4    20\n",
              "1   2  775baa6d037b6d359b229a656eaeaf08  ...       4    11\n",
              "2   3  b9f3394d2aff86d85974f5040c401f08  ...       5     1\n",
              "3   4  808e278b22ec6b96f2faf7447d10cd8e  ...       5     4\n",
              "4   5  f81bdd6d8be4c5f64bb664214e47aced  ...       0     7\n",
              "\n",
              "[5 rows x 12 columns]"
            ]
          },
          "metadata": {},
          "execution_count": 27
        }
      ]
    },
    {
      "cell_type": "code",
      "metadata": {
        "id": "IpuP4Kte_V4G"
      },
      "source": [
        "col_info = {}\n",
        "col_info['numerical'] = ['num_like_post', 'num_share_post', 'num_comment_post',\n",
        "                         'day', 'month', 'weekday', 'hour']\n",
        "col_info['text'] = ['post_message']\n",
        "col_info['misc'] = ['id', 'user_name']"
      ],
      "execution_count": 28,
      "outputs": []
    },
    {
      "cell_type": "code",
      "metadata": {
        "colab": {
          "base_uri": "https://localhost:8080/"
        },
        "id": "FUhxOTMzWRX7",
        "outputId": "9bf8e7a9-f07a-4207-8d3f-b1161c522921"
      },
      "source": [
        "col_info['numerical']"
      ],
      "execution_count": 29,
      "outputs": [
        {
          "output_type": "execute_result",
          "data": {
            "text/plain": [
              "['num_like_post',\n",
              " 'num_share_post',\n",
              " 'num_comment_post',\n",
              " 'day',\n",
              " 'month',\n",
              " 'weekday',\n",
              " 'hour']"
            ]
          },
          "metadata": {},
          "execution_count": 29
        }
      ]
    },
    {
      "cell_type": "code",
      "metadata": {
        "colab": {
          "base_uri": "https://localhost:8080/"
        },
        "id": "8jWDD4JHAYZ0",
        "outputId": "646f2050-6fa1-4293-9747-22a810a9c5b8"
      },
      "source": [
        "numerical_train = data_train[col_info['numerical']]\n",
        "numerical_train['num_comment_post'] = numerical_train['num_comment_post'].astype(\"int\")\n",
        "numerical_train['num_like_post'] = numerical_train['num_like_post'].astype(\"int\")\n",
        "numerical_train['num_share_post'] = numerical_train['num_share_post'].astype(\"int\")\n",
        "\n",
        "numerical_test = data_test[col_info['numerical']]\n",
        "numerical_test['num_comment_post'] = numerical_test['num_comment_post'].astype(\"int\")\n",
        "numerical_test['num_like_post'] = numerical_test['num_like_post'].astype(\"int\")\n",
        "numerical_test['num_share_post'] = numerical_test['num_share_post'].astype(\"int\")"
      ],
      "execution_count": 30,
      "outputs": [
        {
          "output_type": "stream",
          "name": "stderr",
          "text": [
            "/usr/local/lib/python3.7/dist-packages/ipykernel_launcher.py:2: SettingWithCopyWarning: \n",
            "A value is trying to be set on a copy of a slice from a DataFrame.\n",
            "Try using .loc[row_indexer,col_indexer] = value instead\n",
            "\n",
            "See the caveats in the documentation: https://pandas.pydata.org/pandas-docs/stable/user_guide/indexing.html#returning-a-view-versus-a-copy\n",
            "  \n",
            "/usr/local/lib/python3.7/dist-packages/ipykernel_launcher.py:3: SettingWithCopyWarning: \n",
            "A value is trying to be set on a copy of a slice from a DataFrame.\n",
            "Try using .loc[row_indexer,col_indexer] = value instead\n",
            "\n",
            "See the caveats in the documentation: https://pandas.pydata.org/pandas-docs/stable/user_guide/indexing.html#returning-a-view-versus-a-copy\n",
            "  This is separate from the ipykernel package so we can avoid doing imports until\n",
            "/usr/local/lib/python3.7/dist-packages/ipykernel_launcher.py:4: SettingWithCopyWarning: \n",
            "A value is trying to be set on a copy of a slice from a DataFrame.\n",
            "Try using .loc[row_indexer,col_indexer] = value instead\n",
            "\n",
            "See the caveats in the documentation: https://pandas.pydata.org/pandas-docs/stable/user_guide/indexing.html#returning-a-view-versus-a-copy\n",
            "  after removing the cwd from sys.path.\n",
            "/usr/local/lib/python3.7/dist-packages/ipykernel_launcher.py:7: SettingWithCopyWarning: \n",
            "A value is trying to be set on a copy of a slice from a DataFrame.\n",
            "Try using .loc[row_indexer,col_indexer] = value instead\n",
            "\n",
            "See the caveats in the documentation: https://pandas.pydata.org/pandas-docs/stable/user_guide/indexing.html#returning-a-view-versus-a-copy\n",
            "  import sys\n",
            "/usr/local/lib/python3.7/dist-packages/ipykernel_launcher.py:8: SettingWithCopyWarning: \n",
            "A value is trying to be set on a copy of a slice from a DataFrame.\n",
            "Try using .loc[row_indexer,col_indexer] = value instead\n",
            "\n",
            "See the caveats in the documentation: https://pandas.pydata.org/pandas-docs/stable/user_guide/indexing.html#returning-a-view-versus-a-copy\n",
            "  \n",
            "/usr/local/lib/python3.7/dist-packages/ipykernel_launcher.py:9: SettingWithCopyWarning: \n",
            "A value is trying to be set on a copy of a slice from a DataFrame.\n",
            "Try using .loc[row_indexer,col_indexer] = value instead\n",
            "\n",
            "See the caveats in the documentation: https://pandas.pydata.org/pandas-docs/stable/user_guide/indexing.html#returning-a-view-versus-a-copy\n",
            "  if __name__ == '__main__':\n"
          ]
        }
      ]
    },
    {
      "cell_type": "code",
      "metadata": {
        "id": "mCz6ZqF7AfA7"
      },
      "source": [
        "z_scores = zscore(numerical_train)\n",
        "abs_z_scores = abs(z_scores)\n",
        "filter_entries = (abs_z_scores <= 3).all(axis=1)"
      ],
      "execution_count": 31,
      "outputs": []
    },
    {
      "cell_type": "code",
      "metadata": {
        "colab": {
          "base_uri": "https://localhost:8080/"
        },
        "id": "8mIG9NDNq7aL",
        "outputId": "473263fa-da1f-498d-928b-371d77371c8b"
      },
      "source": [
        "np.where(filter_entries == False)"
      ],
      "execution_count": 32,
      "outputs": [
        {
          "output_type": "execute_result",
          "data": {
            "text/plain": [
              "(array([  35,   81,  591, 1557, 1712, 1923, 1943, 2351, 2592, 2652, 2719,\n",
              "        3066, 3133, 3172, 3365, 3490, 3701, 3912, 4219]),)"
            ]
          },
          "metadata": {},
          "execution_count": 32
        }
      ]
    },
    {
      "cell_type": "code",
      "metadata": {
        "id": "AfA9zzPDJ9rv"
      },
      "source": [
        "numerical_train = numerical_train[filter_entries]\n",
        "data_train = data_train[filter_entries]"
      ],
      "execution_count": 33,
      "outputs": []
    },
    {
      "cell_type": "code",
      "metadata": {
        "id": "uWf2j1QDf-h6"
      },
      "source": [
        "from sklearn.preprocessing import QuantileTransformer\n",
        "numerical_transformer = QuantileTransformer(output_distribution=\"normal\")"
      ],
      "execution_count": 34,
      "outputs": []
    },
    {
      "cell_type": "code",
      "metadata": {
        "id": "HHaddhhZ7iZL"
      },
      "source": [
        "#Scale data to uniform distribution in numerical training set\n",
        "for col_name in col_info['numerical']:\n",
        "  training_num = numerical_train[col_name]\n",
        "  col_values = training_num.values.reshape(-1, 1)\n",
        "  col_values_norm = numerical_transformer.fit_transform(col_values)\n",
        "  numerical_train[col_name] = col_values_norm"
      ],
      "execution_count": 60,
      "outputs": []
    },
    {
      "cell_type": "code",
      "metadata": {
        "colab": {
          "base_uri": "https://localhost:8080/",
          "height": 418
        },
        "id": "HXJ7UNhZDfVK",
        "outputId": "816bad1b-bdc2-40fd-e73e-8230ca7a594c"
      },
      "source": [
        "#Scale data to uniform distribution in numerical testing set\n",
        "for col_name in col_info['numerical']:\n",
        "  training_num = numerical_test[col_name]\n",
        "  col_values = training_num.values.reshape(-1, 1)\n",
        "  col_values_norm = numerical_transformer.fit_transform(col_values)\n",
        "  numerical_test[col_name] = col_values_norm"
      ],
      "execution_count": 61,
      "outputs": [
        {
          "output_type": "execute_result",
          "data": {
            "text/html": [
              "<div>\n",
              "<style scoped>\n",
              "    .dataframe tbody tr th:only-of-type {\n",
              "        vertical-align: middle;\n",
              "    }\n",
              "\n",
              "    .dataframe tbody tr th {\n",
              "        vertical-align: top;\n",
              "    }\n",
              "\n",
              "    .dataframe thead th {\n",
              "        text-align: right;\n",
              "    }\n",
              "</style>\n",
              "<table border=\"1\" class=\"dataframe\">\n",
              "  <thead>\n",
              "    <tr style=\"text-align: right;\">\n",
              "      <th></th>\n",
              "      <th>num_like_post</th>\n",
              "      <th>num_share_post</th>\n",
              "      <th>num_comment_post</th>\n",
              "      <th>day</th>\n",
              "      <th>month</th>\n",
              "      <th>weekday</th>\n",
              "      <th>hour</th>\n",
              "    </tr>\n",
              "  </thead>\n",
              "  <tbody>\n",
              "    <tr>\n",
              "      <th>0</th>\n",
              "      <td>1.926238</td>\n",
              "      <td>0.957454</td>\n",
              "      <td>1.426888</td>\n",
              "      <td>-1.615945</td>\n",
              "      <td>-0.170185</td>\n",
              "      <td>0.436240</td>\n",
              "      <td>1.215372</td>\n",
              "    </tr>\n",
              "    <tr>\n",
              "      <th>1</th>\n",
              "      <td>-0.579039</td>\n",
              "      <td>-0.504922</td>\n",
              "      <td>0.043924</td>\n",
              "      <td>-0.823172</td>\n",
              "      <td>0.353487</td>\n",
              "      <td>0.436240</td>\n",
              "      <td>0.316330</td>\n",
              "    </tr>\n",
              "    <tr>\n",
              "      <th>2</th>\n",
              "      <td>0.069056</td>\n",
              "      <td>-0.037646</td>\n",
              "      <td>0.043924</td>\n",
              "      <td>-1.072973</td>\n",
              "      <td>1.140077</td>\n",
              "      <td>0.839121</td>\n",
              "      <td>-1.362078</td>\n",
              "    </tr>\n",
              "    <tr>\n",
              "      <th>3</th>\n",
              "      <td>-1.204935</td>\n",
              "      <td>-5.199338</td>\n",
              "      <td>-5.199338</td>\n",
              "      <td>-0.333524</td>\n",
              "      <td>1.140077</td>\n",
              "      <td>0.839121</td>\n",
              "      <td>-0.535083</td>\n",
              "    </tr>\n",
              "    <tr>\n",
              "      <th>4</th>\n",
              "      <td>0.795322</td>\n",
              "      <td>0.193143</td>\n",
              "      <td>-5.199338</td>\n",
              "      <td>-0.707140</td>\n",
              "      <td>-0.866189</td>\n",
              "      <td>-5.199338</td>\n",
              "      <td>-0.084155</td>\n",
              "    </tr>\n",
              "    <tr>\n",
              "      <th>...</th>\n",
              "      <td>...</td>\n",
              "      <td>...</td>\n",
              "      <td>...</td>\n",
              "      <td>...</td>\n",
              "      <td>...</td>\n",
              "      <td>...</td>\n",
              "      <td>...</td>\n",
              "    </tr>\n",
              "    <tr>\n",
              "      <th>4367</th>\n",
              "      <td>1.322597</td>\n",
              "      <td>2.408550</td>\n",
              "      <td>1.817968</td>\n",
              "      <td>0.419741</td>\n",
              "      <td>-0.866189</td>\n",
              "      <td>0.839121</td>\n",
              "      <td>0.385726</td>\n",
              "    </tr>\n",
              "    <tr>\n",
              "      <th>4368</th>\n",
              "      <td>-0.316330</td>\n",
              "      <td>0.527858</td>\n",
              "      <td>-0.383024</td>\n",
              "      <td>1.358913</td>\n",
              "      <td>0.353487</td>\n",
              "      <td>0.075345</td>\n",
              "      <td>-0.211070</td>\n",
              "    </tr>\n",
              "    <tr>\n",
              "      <th>4369</th>\n",
              "      <td>-1.204935</td>\n",
              "      <td>0.527858</td>\n",
              "      <td>-0.383024</td>\n",
              "      <td>0.124523</td>\n",
              "      <td>0.353487</td>\n",
              "      <td>-5.199338</td>\n",
              "      <td>-0.535083</td>\n",
              "    </tr>\n",
              "    <tr>\n",
              "      <th>4370</th>\n",
              "      <td>0.403356</td>\n",
              "      <td>0.527858</td>\n",
              "      <td>0.721714</td>\n",
              "      <td>-0.156199</td>\n",
              "      <td>0.353487</td>\n",
              "      <td>0.436240</td>\n",
              "      <td>0.530745</td>\n",
              "    </tr>\n",
              "    <tr>\n",
              "      <th>4371</th>\n",
              "      <td>-0.213636</td>\n",
              "      <td>0.527858</td>\n",
              "      <td>0.223916</td>\n",
              "      <td>1.358913</td>\n",
              "      <td>1.140077</td>\n",
              "      <td>5.199338</td>\n",
              "      <td>-0.535083</td>\n",
              "    </tr>\n",
              "  </tbody>\n",
              "</table>\n",
              "<p>4353 rows × 7 columns</p>\n",
              "</div>"
            ],
            "text/plain": [
              "      num_like_post  num_share_post  ...   weekday      hour\n",
              "0          1.926238        0.957454  ...  0.436240  1.215372\n",
              "1         -0.579039       -0.504922  ...  0.436240  0.316330\n",
              "2          0.069056       -0.037646  ...  0.839121 -1.362078\n",
              "3         -1.204935       -5.199338  ...  0.839121 -0.535083\n",
              "4          0.795322        0.193143  ... -5.199338 -0.084155\n",
              "...             ...             ...  ...       ...       ...\n",
              "4367       1.322597        2.408550  ...  0.839121  0.385726\n",
              "4368      -0.316330        0.527858  ...  0.075345 -0.211070\n",
              "4369      -1.204935        0.527858  ... -5.199338 -0.535083\n",
              "4370       0.403356        0.527858  ...  0.436240  0.530745\n",
              "4371      -0.213636        0.527858  ...  5.199338 -0.535083\n",
              "\n",
              "[4353 rows x 7 columns]"
            ]
          },
          "metadata": {},
          "execution_count": 61
        }
      ]
    },
    {
      "cell_type": "code",
      "metadata": {
        "colab": {
          "base_uri": "https://localhost:8080/"
        },
        "id": "VrYW2pj3BJ1m",
        "outputId": "47414dd9-5ed2-4435-9d83-e0f5ad0672f9"
      },
      "source": [
        "print(f\"Before scaling: {numerical_train.values}\")\n",
        "print(f\"After scaling: {training_num}\")"
      ],
      "execution_count": 54,
      "outputs": [
        {
          "output_type": "stream",
          "name": "stdout",
          "text": [
            "Before scaling: [[19477   173   378 ...     4     4    20]\n",
            " [   11     3     5 ...     5     4    11]\n",
            " [   48    19     5 ...     6     5     1]\n",
            " ...\n",
            " [    3    87     1 ...     5     0     4]\n",
            " [  144    87    38 ...     5     4    14]\n",
            " [   24    87     9 ...     6     6     4]]\n",
            "After scaling: [[ 1.92623796  0.95745363  1.42688849 ... -0.17018472  0.43623993\n",
            "   1.21537205]\n",
            " [-0.57903944 -0.50492201  0.04392402 ...  0.35348653  0.43623993\n",
            "   0.31633038]\n",
            " [ 0.06905612 -0.03764595  0.04392402 ...  1.14007693  0.83912102\n",
            "  -1.36207831]\n",
            " ...\n",
            " [-1.20493543  0.52785843 -0.38302436 ...  0.35348653 -5.19933758\n",
            "  -0.53508282]\n",
            " [ 0.40335554  0.52785843  0.72171378 ...  0.35348653  0.43623993\n",
            "   0.53074486]\n",
            " [-0.21363612  0.52785843  0.2239158  ...  1.14007693  5.19933758\n",
            "  -0.53508282]]\n"
          ]
        }
      ]
    },
    {
      "cell_type": "code",
      "metadata": {
        "colab": {
          "base_uri": "https://localhost:8080/",
          "height": 586
        },
        "id": "Py8KPn8QE5W7",
        "outputId": "6e4a3255-cb21-43e4-8a8d-a73f4847c65c"
      },
      "source": [
        "plt.rcParams['figure.figsize'] = (10, 8)\n",
        "sns.distplot(numerical_train['num_like_post'], color = 'orange')\n",
        "plt.title('The Distribution of num like posts', fontsize = 30)\n",
        "plt.xlabel('Range of num like posts', fontsize = 15)\n",
        "plt.ylabel('No. of num like posts', fontsize = 15)\n",
        "plt.show()"
      ],
      "execution_count": 62,
      "outputs": [
        {
          "output_type": "stream",
          "name": "stderr",
          "text": [
            "/usr/local/lib/python3.7/dist-packages/seaborn/distributions.py:2619: FutureWarning: `distplot` is a deprecated function and will be removed in a future version. Please adapt your code to use either `displot` (a figure-level function with similar flexibility) or `histplot` (an axes-level function for histograms).\n",
            "  warnings.warn(msg, FutureWarning)\n"
          ]
        },
        {
          "output_type": "display_data",
          "data": {
            "image/png": "[encoded data removed]",
            "text/plain": [
              "<Figure size 720x576 with 1 Axes>"
            ]
          },
          "metadata": {
            "needs_background": "light"
          }
        }
      ]
    },
    {
      "cell_type": "code",
      "metadata": {
        "colab": {
          "base_uri": "https://localhost:8080/",
          "height": 586
        },
        "id": "38C5W1xWFzCs",
        "outputId": "e3c69d86-04f2-46cc-cecc-2823b2a9fab9"
      },
      "source": [
        "plt.rcParams['figure.figsize'] = (10, 8)\n",
        "sns.distplot(numerical_train['num_share_post'], color = 'navy')\n",
        "plt.title('The Distribution of number of share posts', fontsize = 30)\n",
        "plt.xlabel('Range of num share posts', fontsize = 15)\n",
        "plt.ylabel('No. of num share posts', fontsize = 15)\n",
        "plt.show()"
      ],
      "execution_count": 64,
      "outputs": [
        {
          "output_type": "stream",
          "name": "stderr",
          "text": [
            "/usr/local/lib/python3.7/dist-packages/seaborn/distributions.py:2619: FutureWarning: `distplot` is a deprecated function and will be removed in a future version. Please adapt your code to use either `displot` (a figure-level function with similar flexibility) or `histplot` (an axes-level function for histograms).\n",
            "  warnings.warn(msg, FutureWarning)\n"
          ]
        },
        {
          "output_type": "display_data",
          "data": {
            "image/png": "[encoded data removed]",
            "text/plain": [
              "<Figure size 720x576 with 1 Axes>"
            ]
          },
          "metadata": {
            "needs_background": "light"
          }
        }
      ]
    },
    {
      "cell_type": "code",
      "metadata": {
        "colab": {
          "base_uri": "https://localhost:8080/",
          "height": 586
        },
        "id": "eTUJbb2bGCRq",
        "outputId": "2c2088ee-f147-4376-a1d8-a90456df647d"
      },
      "source": [
        "plt.rcParams['figure.figsize'] = (10, 8)\n",
        "sns.distplot(numerical_train['num_comment_post'], color = 'lightgreen')\n",
        "plt.title('The Distribution of number of comment posts', fontsize = 30)\n",
        "plt.xlabel('Range of num comment posts', fontsize = 15)\n",
        "plt.ylabel('No. of num comment posts', fontsize = 15)\n",
        "plt.show()"
      ],
      "execution_count": 65,
      "outputs": [
        {
          "output_type": "stream",
          "name": "stderr",
          "text": [
            "/usr/local/lib/python3.7/dist-packages/seaborn/distributions.py:2619: FutureWarning: `distplot` is a deprecated function and will be removed in a future version. Please adapt your code to use either `displot` (a figure-level function with similar flexibility) or `histplot` (an axes-level function for histograms).\n",
            "  warnings.warn(msg, FutureWarning)\n"
          ]
        },
        {
          "output_type": "display_data",
          "data": {
            "image/png": "[encoded data removed]",
            "text/plain": [
              "<Figure size 720x576 with 1 Axes>"
            ]
          },
          "metadata": {
            "needs_background": "light"
          }
        }
      ]
    },
    {
      "cell_type": "code",
      "metadata": {
        "id": "cXWJxD2zJ_UG"
      },
      "source": [
        "class BERTConcatFeatures(BertPreTrainedModel):\n",
        "  def __init__(self, config):\n",
        "    super().__init__(config)\n",
        "    self.num_labels = config.num_labels\n",
        "    self.bert = BertModel(config)\n",
        "    combined_features_size = config.hidden_size * 4 + config.numerical_feat_size\n",
        "    self.batch_norm = nn.BatchNorm1d(config.numerical_feat_size)\n",
        "    self.classifier = torch.nn.Linear(combined_features_size, self.num_labels)\n",
        "    \n",
        "  def forward(self, input_ids, attention_mask=None, token_type_ids=None, position_ids=None,\n",
        "              head_mask=None, input_embeds=None, labels=None, class_weights=None,\n",
        "              output_attentions=None, output_hidden_states=None,\n",
        "              numerical_features=None):\n",
        "    outputs = self.bert(input_ids, attention_mask=attention_mask, position_ids=position_ids, head_mask=head_mask)[2]\n",
        "    #numerical_features = self.batch_norm(numerical_features)\n",
        "    combined_features = torch.cat((outputs[-1][:, 0, ...], outputs[-2][:, 0, ...], outputs[-3][:, 0, ...], outputs[-4][:, 0, ...], numerical_features), -1)\n",
        "    logits = self.classifier(combined_features)\n",
        "\n",
        "    return logits"
      ],
      "execution_count": 35,
      "outputs": []
    },
    {
      "cell_type": "code",
      "metadata": {
        "id": "RwZyUi1JFw65"
      },
      "source": [
        "config_path = '/content/drive/MyDrive/VLSP-Fake-News-Detection/config/vbert_1.json'\n",
        "single_model_config = json.load(open(config_path, 'r'))"
      ],
      "execution_count": 36,
      "outputs": []
    },
    {
      "cell_type": "code",
      "metadata": {
        "colab": {
          "base_uri": "https://localhost:8080/"
        },
        "id": "CbixedM6GtS7",
        "outputId": "5db72b01-1f9e-4321-87cf-5ff67751a12a"
      },
      "source": [
        "if torch.cuda.is_available():\n",
        "  device = torch.device('cuda')\n",
        "  print(torch.cuda.get_device_name())"
      ],
      "execution_count": 37,
      "outputs": [
        {
          "output_type": "stream",
          "name": "stdout",
          "text": [
            "Tesla P100-PCIE-16GB\n"
          ]
        }
      ]
    },
    {
      "cell_type": "code",
      "metadata": {
        "id": "NLCkvaWttGD2"
      },
      "source": [
        "def sigmoid(x):\n",
        "    return 1 / (1 + np.exp(-x))"
      ],
      "execution_count": 38,
      "outputs": []
    },
    {
      "cell_type": "code",
      "metadata": {
        "id": "C0jLHDtc9sR6"
      },
      "source": [
        "def seed_everything(seed):\n",
        "    np.random.seed(seed)\n",
        "    torch.manual_seed(seed)\n",
        "    torch.cuda.manual_seed(seed)\n",
        "    torch.backends.cudnn.deterministic = True"
      ],
      "execution_count": 39,
      "outputs": []
    },
    {
      "cell_type": "code",
      "metadata": {
        "colab": {
          "base_uri": "https://localhost:8080/",
          "height": 176
        },
        "id": "tOvny2lbGWMD",
        "outputId": "0d3f61e0-f38d-495d-a3d5-e1e8533c03ff"
      },
      "source": [
        "seed = 9627\n",
        "seed_everything(seed)\n",
        "print(\"===Use BERT model===\")\n",
        "checkpoint_dir = '/content/drive/MyDrive/VLSP-Fake-News-Detection/trained_models/vbert_concat/'\n",
        "tokenizer = BertTokenizer.from_pretrained(\"FPTAI/vibert-base-cased\", do_lower_case=False)\n",
        "tokenizer.add_tokens(['<url>'])\n",
        "config = BertConfig.from_pretrained(\"FPTAI/vibert-base-cased\", num_labels=1, output_hidden_states=True)\n",
        "\n",
        "config.numerical_feat_size = len(numerical_train.columns)\n",
        "model = BERTConcatFeatures.from_pretrained(single_model_config['model_name'], config=config)\n",
        "model.to(device)\n",
        "tsfm = model.bert"
      ],
      "execution_count": 49,
      "outputs": [
        {
          "output_type": "stream",
          "name": "stdout",
          "text": [
            "===Use BERT model===\n"
          ]
        },
        {
          "output_type": "display_data",
          "data": {
            "application/vnd.jupyter.widget-view+json": {
              "model_id": "2aa8d6f59ab54fcd927e724d2a5d3335",
              "version_minor": 0,
              "version_major": 2
            },
            "text/plain": [
              "Downloading:   0%|          | 0.00/581M [00:00<?, ?B/s]"
            ]
          },
          "metadata": {}
        },
        {
          "output_type": "stream",
          "name": "stderr",
          "text": [
            "Some weights of the model checkpoint at FPTAI/vibert-base-cased were not used when initializing BERTConcatFeatures: ['cls.predictions.bias', 'cls.seq_relationship.weight', 'cls.predictions.transform.dense.weight', 'cls.predictions.decoder.bias', 'cls.predictions.transform.LayerNorm.bias', 'cls.predictions.transform.LayerNorm.weight', 'cls.predictions.transform.dense.bias', 'cls.predictions.decoder.weight', 'cls.seq_relationship.bias']\n",
            "- This IS expected if you are initializing BERTConcatFeatures from the checkpoint of a model trained on another task or with another architecture (e.g. initializing a BertForSequenceClassification model from a BertForPreTraining model).\n",
            "- This IS NOT expected if you are initializing BERTConcatFeatures from the checkpoint of a model that you expect to be exactly identical (initializing a BertForSequenceClassification model from a BertForSequenceClassification model).\n",
            "Some weights of BERTConcatFeatures were not initialized from the model checkpoint at FPTAI/vibert-base-cased and are newly initialized: ['batch_norm.num_batches_tracked', 'batch_norm.running_var', 'batch_norm.bias', 'batch_norm.weight', 'classifier.bias', 'batch_norm.running_mean', 'classifier.weight']\n",
            "You should probably TRAIN this model on a down-stream task to be able to use it for predictions and inference.\n"
          ]
        }
      ]
    },
    {
      "cell_type": "code",
      "metadata": {
        "id": "lt0yyWLSQs5R"
      },
      "source": [
        "def isnan(s):\n",
        "  return s != s"
      ],
      "execution_count": 41,
      "outputs": []
    },
    {
      "cell_type": "code",
      "metadata": {
        "id": "2847_GkoR0FR"
      },
      "source": [
        "def convert_tokens_to_ids(texts, tokenizer, max_seq_length=256, labels=None):\n",
        "    input_ids, attention_masks = [], []\n",
        "    for text in texts:\n",
        "        inputs = tokenizer.encode_plus(text, padding='max_length', max_length=max_seq_length, truncation=True)\n",
        "        input_ids.append(inputs['input_ids'])\n",
        "        attention_masks.append(inputs['attention_mask'])\n",
        "\n",
        "    if labels is not None:\n",
        "        return torch.tensor(input_ids, dtype=torch.int64), torch.tensor(attention_masks, dtype=torch.int64), torch.tensor(\n",
        "            labels, dtype=torch.int64)\n",
        "    return torch.tensor(input_ids, dtype=torch.int64), torch.tensor(attention_masks, dtype=torch.int64)"
      ],
      "execution_count": 42,
      "outputs": []
    },
    {
      "cell_type": "code",
      "metadata": {
        "id": "-EA_0cihkEiP"
      },
      "source": [
        "def save_checkpoint(model, tokenizer, checkpoint_path, epoch='best'):\n",
        "    torch.save(model.state_dict(), os.path.join(\n",
        "        checkpoint_path, f'model_{epoch}.bin'))\n",
        "    model.config.to_json_file(os.path.join(checkpoint_path, 'config.json'))\n",
        "    tokenizer.save_vocabulary(checkpoint_path)"
      ],
      "execution_count": 43,
      "outputs": []
    },
    {
      "cell_type": "code",
      "metadata": {
        "id": "DcM8E6ePkWXv"
      },
      "source": [
        "def eval(val_loader, model, epoch, device):\n",
        "    # Evaluate model\n",
        "    model.eval()\n",
        "    y_val = []\n",
        "    val_preds = None\n",
        "    print(f\"EPOCH {epoch + 1}: ===EVALUATION===\")\n",
        "    for (input_ids, numerical_feat, attention_mask, y_batch) in val_loader:\n",
        "        y_pred = model(input_ids.to(device), numerical_features=numerical_feat.to(device), attention_mask=attention_mask.to(device))\n",
        "        y_pred = y_pred.squeeze().detach().cpu().numpy()\n",
        "        val_preds = np.atleast_1d(y_pred) if val_preds is None else np.concatenate(\n",
        "            [val_preds, np.atleast_1d(y_pred)])\n",
        "        y_val.extend(y_batch.tolist())\n",
        "\n",
        "    val_preds = sigmoid(val_preds)\n",
        "    score = f1_score(y_val, val_preds > 0.5, pos_label=0)\n",
        "    roc_score = roc_auc_score(y_val, val_preds)\n",
        "    print(f\"PREDICT {sum(val_preds <= 0.5)} INFORMATIVES\")\n",
        "    print(f\"ACTUALY {len(y_val) - sum(y_val)} INFORMATIVES\")\n",
        "\n",
        "    print(\n",
        "        f\"\\n----- F1 score @0.5 = {score:.4f}\\nROC-AUC Score = {roc_score:.4f}\")\n",
        "    return roc_score"
      ],
      "execution_count": 44,
      "outputs": []
    },
    {
      "cell_type": "code",
      "metadata": {
        "id": "5f3G7hQHywmt"
      },
      "source": [
        "def predict(test_df, numerical_test, model, config, tweet_tokenizer, vncorenlp, model_tokenizer):\n",
        "    test_normalized_texts = []\n",
        "    test_post_ids = []\n",
        "    for row in test_df.iterrows():\n",
        "        if not isnan(row[1]['post_message']):\n",
        "            test_normalized_texts.append(\n",
        "                normalizePost(row[1]['post_message'], tweet_tokenizer, vncorenlp, use_segment=config['use_wordsegment'],\n",
        "                              remove_punc_stopword=config['remove_punc_stopword'], lowercase_opt=False, truncation_method=\"head_only\"))\n",
        "            test_post_ids.append(row[1]['id'])\n",
        "\n",
        "    test_ids, test_masks = convert_tokens_to_ids(test_normalized_texts, model_tokenizer)\n",
        "    numerical_test = numerical_test.iloc[~numerical_test.index.isin(error_label_idx)]\n",
        "    test_numerical_features = torch.tensor(numerical_test.values, dtype=torch.int64)\n",
        "\n",
        "    test_dataset = TensorDataset(test_ids, test_numerical_features, test_masks)\n",
        "    test_dataloader = DataLoader(test_dataset, batch_size=8, shuffle=False)\n",
        "\n",
        "    model.eval()\n",
        "    test_preds = None\n",
        "    for i, (input_ids, num_feat, masks) in enumerate(test_dataloader):\n",
        "        if i % 20 == 0 or i == len(test_dataloader):\n",
        "            print(f\"Predicted {i} posts.\")\n",
        "        y_pred = model(input_ids.cuda(), numerical_features = num_feat.cuda(), attention_mask=masks.cuda())\n",
        "        y_pred = y_pred.squeeze().detach().cpu().numpy()\n",
        "        test_preds = np.atleast_1d(y_pred) if test_preds is None else np.concatenate(\n",
        "            [test_preds, np.atleast_1d(y_pred)])\n",
        "\n",
        "    test_preds = sigmoid(test_preds)\n",
        "    test_preds = test_preds.tolist()\n",
        "    final_result = []\n",
        "    for post_id, test_pred in zip(test_post_ids, test_preds):\n",
        "      final_result.append([post_id, test_pred])\n",
        "    \n",
        "    result_df = DataFrame(final_result)\n",
        "    result_df.to_csv('/content/drive/MyDrive/VLSP-Fake-News-Detection/results.csv', index=False)"
      ],
      "execution_count": 45,
      "outputs": []
    },
    {
      "cell_type": "code",
      "metadata": {
        "id": "G_6TGuoRTdxb"
      },
      "source": [
        "EPOCHS = 4\n",
        "BATCH_SIZE = 32\n",
        "ACCUMULATION_STEPS = 6\n",
        "LEARNING_RATE = 1e-5"
      ],
      "execution_count": 46,
      "outputs": []
    },
    {
      "cell_type": "code",
      "metadata": {
        "id": "DoLkJDJnLaCC"
      },
      "source": [
        "error_label_idx = []\n",
        "tr_texts = []\n",
        "for i, post in enumerate(data_train.post_message):\n",
        "  if not isnan(post):\n",
        "    tr_texts.append(normalizePost(post, tweet_tokenizer, rdrsegmenter, use_segment=True, remove_punc_stopword=False, lowercase_opt=False, truncation_method=\"head_only\"))\n",
        "  else:\n",
        "    error_label_idx.append(i)\n",
        "tr_labels = data_train.iloc[~data_train.index.isin(error_label_idx)].label.to_list()\n",
        "numerical_train = numerical_train.iloc[~numerical_train.index.isin(error_label_idx)]\n",
        "numerical_features = torch.tensor(numerical_train.values, dtype=torch.int64)\n",
        "\n",
        "train_ids, train_masks, train_labels = convert_tokens_to_ids(tr_texts, tokenizer, 256, tr_labels)\n",
        "dataset = TensorDataset(train_ids, numerical_features, train_masks, train_labels)\n",
        "# train_sampler = torch.utils.data.RandomSampler(train_dataset)\n",
        "# train_loader = torch.utils.data.DataLoader(train_dataset, batch_size=BATCH_SIZE, sampler=train_sampler)"
      ],
      "execution_count": 67,
      "outputs": []
    },
    {
      "cell_type": "code",
      "metadata": {
        "id": "Zk1Fyl8P9gmb",
        "colab": {
          "base_uri": "https://localhost:8080/"
        },
        "outputId": "f1823410-d5fb-4a14-aa2d-ab4ce1e8259e"
      },
      "source": [
        "train_size = int(0.9*len(dataset))\n",
        "val_size = len(dataset) - train_size\n",
        "\n",
        "train_dataset, val_dataset = torch.utils.data.random_split(dataset, [train_size, val_size])\n",
        "\n",
        "print(f\"Training set size: {len(train_dataset)}\")\n",
        "print(f\"Validation set size: {len(val_dataset)}\")"
      ],
      "execution_count": 68,
      "outputs": [
        {
          "output_type": "stream",
          "name": "stdout",
          "text": [
            "Training set size: 3917\n",
            "Validation set size: 436\n"
          ]
        }
      ]
    },
    {
      "cell_type": "code",
      "metadata": {
        "id": "t4jOF7DggmLN"
      },
      "source": [
        "train_sampler = torch.utils.data.RandomSampler(train_dataset)\n",
        "train_loader = DataLoader(train_dataset, batch_size=BATCH_SIZE, sampler=train_sampler)\n",
        "\n",
        "val_sampler = torch.utils.data.RandomSampler(val_dataset)\n",
        "val_loader = DataLoader(val_dataset, batch_size=BATCH_SIZE, sampler=val_sampler)"
      ],
      "execution_count": 69,
      "outputs": []
    },
    {
      "cell_type": "code",
      "metadata": {
        "id": "TKput_XX65Ou",
        "colab": {
          "base_uri": "https://localhost:8080/"
        },
        "outputId": "fd3051cd-01d4-4bb1-c6f4-20bd05403495"
      },
      "source": [
        "num_train_optimization_steps = int(EPOCHS * len(train_dataset) / BATCH_SIZE / ACCUMULATION_STEPS)\n",
        "param_optimizer = list(model.named_parameters())\n",
        "no_decay = ['bias', 'LayerNorm.bias', 'LayerNorm.weight']\n",
        "optimizer_grouped_parameters = [\n",
        "    {'params': [p for n, p in param_optimizer if not any(\n",
        "        np in n for np in no_decay)], 'weight_decay': 0.01},\n",
        "    {'params': [p for n, p in param_optimizer if any(\n",
        "        np in n for np in no_decay)], 'weight_decay': 0.01}\n",
        "]\n",
        "\n",
        "optimizer = AdamW(optimizer_grouped_parameters,lr=LEARNING_RATE, correct_bias=False)\n",
        "scheduler0 = get_constant_schedule(optimizer)\n",
        "scheduler = get_linear_schedule_with_warmup(optimizer, num_warmup_steps=100, num_training_steps=num_train_optimization_steps)\n",
        "\n",
        "for child in tsfm.children():\n",
        "  for param in child.parameters():\n",
        "    param.require_grad = False\n",
        "\n",
        "#Convert to iterator\n",
        "frozen = True\n",
        "best_score = 0.0\n",
        "for epoch in range(EPOCHS):\n",
        "  if epoch > 0 and frozen:\n",
        "    for child in tsfm.children():\n",
        "      for param in child.parameters():\n",
        "        param.requires_grad = True\n",
        "\n",
        "    frozen = False\n",
        "    del scheduler0\n",
        "    torch.cuda.empty_cache()\n",
        "    gc.collect()\n",
        "  optimizer.zero_grad()    \n",
        "  print('\\n------ Start training on Epoch: %d/%d' % (epoch + 1, EPOCHS))\n",
        "  avg_loss = 0\n",
        "  avg_accuracy = 0\n",
        "  model.train()\n",
        "\n",
        "  for i, (input_ids, numerical_feat, attention_mask, y_batch) in enumerate(train_loader):\n",
        "    if(i % 20 == 0 and not i == 0) or (i == len(train_loader)):\n",
        "      print(f\"Training batch {i} of {len(train_loader)}\")\n",
        "    optimizer.zero_grad()\n",
        "    y_pred = model(input_ids.to(device), numerical_features=numerical_feat.to(device), attention_mask=attention_mask.to(device))\n",
        "    loss = torch.nn.functional.binary_cross_entropy_with_logits(y_pred.view(-1).to(device), y_batch.float().to(device))\n",
        "    loss = loss.mean()\n",
        "    loss.backward()\n",
        "    optimizer.step()\n",
        "\n",
        "    lossf = loss.item()\n",
        "    avg_loss += loss.item() / len(train_loader)\n",
        "\n",
        "  if not frozen:\n",
        "    scheduler.step()\n",
        "  else:\n",
        "    scheduler0.step()\n",
        "  optimizer.zero_grad()\n",
        "\n",
        "  roc_score = eval(val_loader, model, epoch, \"cuda\")\n",
        "  if roc_score >= best_score:\n",
        "    best_score = roc_score\n",
        "    save_checkpoint(model, tokenizer, checkpoint_dir, epoch=seed)\n",
        "    print(\"Updated best score model!!! -------<{}>\" % best_score)\n",
        "  print(\"==================Done=============\")"
      ],
      "execution_count": 70,
      "outputs": [
        {
          "output_type": "stream",
          "name": "stdout",
          "text": [
            "\n",
            "------ Start training on Epoch: 1/4\n",
            "Training batch 20 of 123\n",
            "Training batch 40 of 123\n",
            "Training batch 60 of 123\n",
            "Training batch 80 of 123\n",
            "Training batch 100 of 123\n",
            "Training batch 120 of 123\n",
            "EPOCH 1: ===EVALUATION===\n",
            "PREDICT 289 INFORMATIVES\n",
            "ACTUALY 374 INFORMATIVES\n",
            "\n",
            "----- F1 score @0.5 = 0.7421\n",
            "ROC-AUC Score = 0.4801\n",
            "Updated best score model!!! -------<{}>\n",
            "==================Done=============\n",
            "\n",
            "------ Start training on Epoch: 2/4\n",
            "Training batch 20 of 123\n",
            "Training batch 40 of 123\n",
            "Training batch 60 of 123\n",
            "Training batch 80 of 123\n",
            "Training batch 100 of 123\n",
            "Training batch 120 of 123\n",
            "EPOCH 2: ===EVALUATION===\n",
            "PREDICT 362 INFORMATIVES\n",
            "ACTUALY 374 INFORMATIVES\n",
            "\n",
            "----- F1 score @0.5 = 0.9375\n",
            "ROC-AUC Score = 0.9166\n",
            "Updated best score model!!! -------<{}>\n",
            "==================Done=============\n",
            "\n",
            "------ Start training on Epoch: 3/4\n",
            "Training batch 20 of 123\n",
            "Training batch 40 of 123\n",
            "Training batch 60 of 123\n",
            "Training batch 80 of 123\n",
            "Training batch 100 of 123\n",
            "Training batch 120 of 123\n",
            "EPOCH 3: ===EVALUATION===\n",
            "PREDICT 375 INFORMATIVES\n",
            "ACTUALY 374 INFORMATIVES\n",
            "\n",
            "----- F1 score @0.5 = 0.9372\n",
            "ROC-AUC Score = 0.9164\n",
            "==================Done=============\n",
            "\n",
            "------ Start training on Epoch: 4/4\n",
            "Training batch 20 of 123\n",
            "Training batch 40 of 123\n",
            "Training batch 60 of 123\n",
            "Training batch 80 of 123\n",
            "Training batch 100 of 123\n",
            "Training batch 120 of 123\n",
            "EPOCH 4: ===EVALUATION===\n",
            "PREDICT 378 INFORMATIVES\n",
            "ACTUALY 374 INFORMATIVES\n",
            "\n",
            "----- F1 score @0.5 = 0.9388\n",
            "ROC-AUC Score = 0.9161\n",
            "==================Done=============\n"
          ]
        }
      ]
    },
    {
      "cell_type": "code",
      "metadata": {
        "id": "Q2W-ojLOxaVq"
      },
      "source": [
        "test_config_path = \"/content/drive/MyDrive/VLSP-Fake-News-Detection/trained_models/vbert_concat/model_9627.bin\"\n",
        "test_config = BertConfig.from_pretrained(\"/content/drive/MyDrive/VLSP-Fake-News-Detection/trained_models/vbert_concat\", num_labels=1, output_hidden_states=True)\n",
        "test_model = BERTConcatFeatures.from_pretrained(test_config_path, config=test_config)\n",
        "test_model.to(device)\n",
        "test_tokenizer = BertTokenizer.from_pretrained(\"/content/drive/MyDrive/VLSP-Fake-News-Detection/trained_models/vbert_concat\", do_lower_case=False)"
      ],
      "execution_count": 71,
      "outputs": []
    },
    {
      "cell_type": "code",
      "metadata": {
        "colab": {
          "base_uri": "https://localhost:8080/"
        },
        "id": "pw5cxgzHylp0",
        "outputId": "1e5e6cfd-894e-46f2-fb5d-075fa3cef03f"
      },
      "source": [
        "predict(data_test, numerical_test, test_model, single_model_config, tweet_tokenizer, rdrsegmenter, test_tokenizer)"
      ],
      "execution_count": 72,
      "outputs": [
        {
          "output_type": "stream",
          "name": "stdout",
          "text": [
            "Predicted 0 posts.\n",
            "Predicted 20 posts.\n",
            "Predicted 40 posts.\n",
            "Predicted 60 posts.\n",
            "Predicted 80 posts.\n",
            "Predicted 100 posts.\n",
            "Predicted 120 posts.\n",
            "Predicted 140 posts.\n",
            "Predicted 160 posts.\n",
            "Predicted 180 posts.\n",
            "Predicted 200 posts.\n"
          ]
        },
        {
          "output_type": "stream",
          "name": "stderr",
          "text": [
            "/usr/local/lib/python3.7/dist-packages/ipykernel_launcher.py:2: RuntimeWarning: overflow encountered in exp\n",
            "  \n"
          ]
        }
      ]
    },
    {
      "cell_type": "code",
      "metadata": {
        "id": "IMmoA9i2Jbt7"
      },
      "source": [
        ""
      ],
      "execution_count": null,
      "outputs": []
    }
  ]
}